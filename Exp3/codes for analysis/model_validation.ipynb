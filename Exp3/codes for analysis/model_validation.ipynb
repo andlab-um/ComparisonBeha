{
 "cells": [
  {
   "cell_type": "code",
   "execution_count": 24,
   "metadata": {},
   "outputs": [],
   "source": [
    "import numpy as np\n",
    "import pandas as pd\n",
    "import csv\n",
    "import random\n",
    "import scipy\n",
    "import matplotlib\n",
    "import matplotlib.pyplot as plt\n",
    "from scipy import stats\n",
    "import seaborn as sns\n",
    "import statsmodels.api as sm\n",
    "from statsmodels.formula.api import ols"
   ]
  },
  {
   "cell_type": "code",
   "execution_count": 28,
   "metadata": {},
   "outputs": [],
   "source": [
    "subject_num = 56\n",
    "def read_data(n):  #read behavioral data; no action: action[i]=4\n",
    "    #数据文件在的位置\n",
    "    action = []\n",
    "    reward = []\n",
    "    reward_B = []\n",
    "    comparision = [] #r-r_b; 1:>=0, 0:<0\n",
    "    \n",
    "    subject = [1,2,3,4,5,6,7,8,9,10,\n",
    "               11,12,13,14,15,16,17,18,19,20,\n",
    "               21,22,23,24,25,26,27,28,29,30,\n",
    "               31,32,33,34,35,36,37,38,39,40,\n",
    "               41,42,43,44,45,46,47,48,49,50,\n",
    "               51,52,53,54,55,56,58,59,60,61]\n",
    "    \n",
    "    num = str(100+subject[n])\n",
    "    file = pd.read_csv('E:/multi-bandit/e1_new/RL_E1_preexp1_alldata//RL_E1_preexp1_alldata/' + num + '.csv')\n",
    "    name = 'sub (' +str(n) +').csv'\n",
    "    action_index = 0\n",
    "    for i in  range((file.shape[1])):\n",
    "        if file.columns[i] == 'choose_bandit.keys':\n",
    "            action_index = i\n",
    "    reward_index = 0\n",
    "    for i in  range((file.shape[1])):\n",
    "        if file.columns[i] == 'subchoose':\n",
    "            reward_index = i\n",
    "    for i in range((file.shape[0])):\n",
    "\n",
    "        if file.iloc[i,0] == 1 and file.iloc[i,action_index]!='None' :\n",
    "            if file.iloc[i,action_index] == 'r':\n",
    "                action.append(0)\n",
    "            elif file.iloc[i,action_index] == 'f':\n",
    "                action.append(1)\n",
    "            elif file.iloc[i,action_index] == 'i':\n",
    "                action.append(2)\n",
    "            elif file.iloc[i,action_index] == 'j':\n",
    "                action.append(3)\n",
    "            else:\n",
    "                print(file.iloc[i,action_index])\n",
    "                print(i)\n",
    "                raise ValueError('不能识别选项')\n",
    "            reward.append(int(file.iloc[i,reward_index]))\n",
    "            reward_B.append(int(file.iloc[i,reward_index+1]))\n",
    "            if int(file.iloc[i,reward_index]) >= int(file.iloc[i,reward_index+1]):\n",
    "                comparision.append(int(file.iloc[i,reward_index])-int(file.iloc[i,reward_index+1]))\n",
    "            else:\n",
    "                comparision.append(int(file.iloc[i,reward_index+1])-int(file.iloc[i,reward_index]))\n",
    "        elif file.iloc[i,0] == 1 and file.iloc[i,action_index] =='None' :\n",
    "            action.append(4)\n",
    "            reward.append(0)\n",
    "            reward_B.append(0)\n",
    "            comparision.append(0)\n",
    "    return action,reward,reward_B,comparision\n",
    "\n",
    "def read_data_happiness(n):  #read behavioral data; no action: action[i]=4\n",
    "    #数据文件在的位置\n",
    "    action = []\n",
    "    reward = []\n",
    "    reward_B = []\n",
    "    happiness = [] #r-r_b; 1:>=0, 0:<0\n",
    "    subject = [1,2,3,4,5,6,7,8,9,10,\n",
    "               11,12,13,14,15,16,17,18,19,20,\n",
    "               21,22,23,24,25,26,27,28,29,30,\n",
    "               31,32,33,34,35,36,37,38,39,40,\n",
    "               41,42,43,44,45,46,47,48,49,50,\n",
    "               51,52,53,54,55,56,58,59,60,61]\n",
    "    num = str(100+subject[n])\n",
    "    file = pd.read_csv('E:/multi-bandit/e1_new/RL_E1_preexp1_alldata/' + num + '.csv')\n",
    "    action_index = 0\n",
    "    for i in  range((file.shape[1])):\n",
    "        if file.columns[i] == 'choose_bandit.keys':\n",
    "            action_index = i\n",
    "    reward_index = 0\n",
    "    for i in  range((file.shape[1])):\n",
    "        if file.columns[i] == 'subchoose':\n",
    "            reward_index = i\n",
    "    happiness_index = 0\n",
    "    for i in range((file.shape[1])):\n",
    "        if file.columns[i] == 'slider.response':\n",
    "            happiness_index = i\n",
    "    \n",
    "    for i in range((file.shape[0])):\n",
    "        if file.iloc[i,0] == 1 and file.iloc[i,action_index]!='None' :\n",
    "            if file.iloc[i,action_index] == 'r':\n",
    "                action.append(0)\n",
    "            elif file.iloc[i,action_index] == 'f':\n",
    "                action.append(1)\n",
    "            elif file.iloc[i,action_index] == 'i':\n",
    "                action.append(2)\n",
    "            elif file.iloc[i,action_index] == 'j':\n",
    "                action.append(3)\n",
    "            else:\n",
    "                print(file.iloc[i,action_index])\n",
    "                print(i)\n",
    "                raise ValueError('不能识别选项')\n",
    "            reward.append(int(file.iloc[i,reward_index]))\n",
    "            reward_B.append(int(file.iloc[i,reward_index+1]))\n",
    "            happiness.append(int(float(file.iloc[i,happiness_index])))\n",
    "    return action,reward,reward_B,happiness\n",
    "\n",
    "def happiness_reward():\n",
    "    subjects = 60\n",
    "    trials = 150\n",
    "    Reward = []\n",
    "    Reward_b = []\n",
    "    Happiness = []\n",
    "    for s in range(subjects):\n",
    "        action,reward,reward_B,happiness = read_data_happiness(s)\n",
    "        Reward.append(reward)\n",
    "        Reward_b.append(reward_B)\n",
    "        Happiness.append(happiness)\n",
    "    return Reward,Reward_b,Happiness"
   ]
  },
  {
   "cell_type": "code",
   "execution_count": 21,
   "metadata": {},
   "outputs": [],
   "source": [
    "def read_parameter_3_para(file_name):\n",
    "    parameter_result = pd.read_csv(file_name)\n",
    "    subject_num = 60\n",
    "    para1 = []\n",
    "    para2 = []\n",
    "    para3 = []\n",
    "    for i in range(subject_num):\n",
    "        para1.append(parameter_result.iloc[i,1])\n",
    "    for i in range(subject_num):\n",
    "        para2.append(parameter_result.iloc[i+subject_num,1])\n",
    "    for i in range(subject_num):\n",
    "        para3.append(parameter_result.iloc[i+subject_num*2,1])\n",
    "    para1 = np.array(para1)\n",
    "    para2 = np.array(para2)\n",
    "    para3 = np.array(para3)\n",
    "    return para1,para2,para3\n",
    "    \n",
    "def read_parameter(file_name): # read fitted parameters: beta,phi,persev,gamma\n",
    "    parameter_result = pd.read_csv(file_name)\n",
    "    subject_num = 60\n",
    "    beta = []\n",
    "    phi = []\n",
    "    persev = []\n",
    "    gamma = []\n",
    "    for i in range(subject_num):\n",
    "        beta.append(parameter_result.iloc[i,1])\n",
    "    for i in range(subject_num):\n",
    "        phi.append(parameter_result.iloc[i+subject_num,1])\n",
    "    for i in range(subject_num):\n",
    "        persev.append(parameter_result.iloc[i+subject_num*2,1])\n",
    "    for i in range(subject_num):\n",
    "        gamma.append(parameter_result.iloc[i+subject_num*3,1])\n",
    "    beta = np.array(beta)\n",
    "    phi = np.array(phi)\n",
    "    persev = np.array(persev)\n",
    "    gamma = np.array(gamma)\n",
    "    return beta,phi,persev,gamma\n",
    "\n",
    "def read_parameter_glm_para(file_name): # read fitted parameters: beta,phi,persev,gamma\n",
    "    parameter_result = pd.read_csv(file_name)\n",
    "    subject_num = 60\n",
    "    beta = []\n",
    "    phi = []\n",
    "    persev = []\n",
    "    gamma = []\n",
    "    glm_a = []\n",
    "    for i in range(subject_num):\n",
    "        beta.append(parameter_result.iloc[i,1])\n",
    "    for i in range(subject_num):\n",
    "        phi.append(parameter_result.iloc[i+subject_num,1])\n",
    "    for i in range(subject_num):\n",
    "        persev.append(parameter_result.iloc[i+subject_num*2,1])\n",
    "    for i in range(subject_num):\n",
    "        gamma.append(parameter_result.iloc[i+subject_num*3,1])\n",
    "    for i in range(subject_num):\n",
    "        glm_a.append(parameter_result.iloc[i+subject_num*4,1])\n",
    "    beta = np.array(beta)\n",
    "    phi = np.array(phi)\n",
    "    persev = np.array(persev)\n",
    "    gamma = np.array(gamma)\n",
    "    glm_a = np.array(glm_a)\n",
    "    return beta,phi,persev,gamma,glm_a\n",
    "\n",
    "def read_parameter_glm_3_para(file_name): # read fitted parameters: beta_a,b;phi_a,b;persev_,b;gamma_a,b\n",
    "    parameter_result = pd.read_csv(file_name)\n",
    "    subject_num = 60\n",
    "    beta_a = []\n",
    "    phi_a = []\n",
    "    persev_a = []\n",
    "\n",
    "    beta_b = []\n",
    "    phi_b = []\n",
    "    persev_b = []\n",
    "\n",
    "    for i in range(subject_num):\n",
    "        beta_a.append(parameter_result.iloc[i,1])\n",
    "    for i in range(subject_num):\n",
    "        phi_a.append(parameter_result.iloc[i+subject_num,1])\n",
    "    for i in range(subject_num):\n",
    "        persev_a.append(parameter_result.iloc[i+subject_num*2,1])\n",
    "\n",
    "    for i in range(subject_num):\n",
    "        beta_b.append(parameter_result.iloc[i+subject_num*3,1])\n",
    "    for i in range(subject_num):\n",
    "        phi_b.append(parameter_result.iloc[i+subject_num*4,1])\n",
    "    for i in range(subject_num):\n",
    "        persev_b.append(parameter_result.iloc[i+subject_num*5,1])\n",
    "\n",
    "    beta_a = np.array(beta_a)\n",
    "    phi_a = np.array(phi_a)\n",
    "    persev_a = np.array(persev_a)\n",
    "\n",
    "    beta_b = np.array(beta_b)\n",
    "    phi_b = np.array(phi_b)\n",
    "    persev_b = np.array(persev_b)\n",
    "\n",
    "    return beta_a,phi_a,persev_a,beta_b,phi_b,persev_b\n",
    "\n",
    "def read_parameter_glm(file_name): # read fitted parameters: beta_a,b;phi_a,b;persev_,b;gamma_a,b\n",
    "    parameter_result = pd.read_csv(file_name)\n",
    "    subject_num = 60\n",
    "    beta_a = []\n",
    "    phi_a = []\n",
    "    persev_a = []\n",
    "    gamma_a = []\n",
    "    beta_b = []\n",
    "    phi_b = []\n",
    "    persev_b = []\n",
    "    gamma_b = []\n",
    "    for i in range(subject_num):\n",
    "        beta_a.append(parameter_result.iloc[i,1])\n",
    "    for i in range(subject_num):\n",
    "        phi_a.append(parameter_result.iloc[i+subject_num,1])\n",
    "    for i in range(subject_num):\n",
    "        persev_a.append(parameter_result.iloc[i+subject_num*2,1])\n",
    "    for i in range(subject_num):\n",
    "        gamma_a.append(parameter_result.iloc[i+subject_num*3,1])\n",
    "    for i in range(subject_num):\n",
    "        beta_b.append(parameter_result.iloc[i+subject_num*4,1])\n",
    "    for i in range(subject_num):\n",
    "        phi_b.append(parameter_result.iloc[i+subject_num*5,1])\n",
    "    for i in range(subject_num):\n",
    "        persev_b.append(parameter_result.iloc[i+subject_num*6,1])\n",
    "    for i in range(subject_num):\n",
    "        gamma_b.append(parameter_result.iloc[i+subject_num*7,1])\n",
    "    beta_a = np.array(beta_a)\n",
    "    phi_a = np.array(phi_a)\n",
    "    persev_a = np.array(persev_a)\n",
    "    gamma_a = np.array(gamma_a)\n",
    "    beta_b = np.array(beta_b)\n",
    "    phi_b = np.array(phi_b)\n",
    "    persev_b = np.array(persev_b)\n",
    "    gamma_b = np.array(gamma_b)\n",
    "    return beta_a,phi_a,persev_a,gamma_a,beta_b,phi_b,persev_b,gamma_b\n",
    "\n",
    "def read_parameter_glm2(file_name): # read fitted parameters: beta_a,b;phi_a,b;persev_,b;gamma_a,b\n",
    "    parameter_result = pd.read_csv(file_name)\n",
    "    subject_num = 60\n",
    "    beta_a_0 = []\n",
    "    phi_a_0 = []\n",
    "    persev_a_0 = []\n",
    "    gamma_a_0 = []\n",
    "    \n",
    "    beta_a_1 = []\n",
    "    phi_a_1 = []\n",
    "    persev_a_1 = []\n",
    "    gamma_a_1 = []\n",
    "    \n",
    "    beta_b = []\n",
    "    phi_b = []\n",
    "    persev_b = []\n",
    "    gamma_b = []\n",
    "    for i in range(subject_num):\n",
    "        beta_a_0.append(parameter_result.iloc[i,1])\n",
    "    for i in range(subject_num):\n",
    "        phi_a_0.append(parameter_result.iloc[i+subject_num,1])\n",
    "    for i in range(subject_num):\n",
    "        persev_a_0.append(parameter_result.iloc[i+subject_num*2,1])\n",
    "    for i in range(subject_num):\n",
    "        gamma_a_0.append(parameter_result.iloc[i+subject_num*3,1])\n",
    "    for i in range(subject_num):\n",
    "        beta_a_1.append(parameter_result.iloc[i+subject_num*4,1])\n",
    "    for i in range(subject_num):\n",
    "        phi_a_1.append(parameter_result.iloc[i+subject_num*5,1])\n",
    "    for i in range(subject_num):\n",
    "        persev_a_1.append(parameter_result.iloc[i+subject_num*6,1])\n",
    "    for i in range(subject_num):\n",
    "        gamma_a_1.append(parameter_result.iloc[i+subject_num*7,1])\n",
    "    for i in range(subject_num):\n",
    "        beta_b.append(parameter_result.iloc[i+subject_num*8,1])\n",
    "    for i in range(subject_num):\n",
    "        phi_b.append(parameter_result.iloc[i+subject_num*9,1])\n",
    "    for i in range(subject_num):\n",
    "        persev_b.append(parameter_result.iloc[i+subject_num*10,1])\n",
    "    for i in range(subject_num):\n",
    "        gamma_b.append(parameter_result.iloc[i+subject_num*11,1])\n",
    "        \n",
    "    beta_a_0 = np.array(beta_a_0)\n",
    "    phi_a_0 = np.array(phi_a_0)\n",
    "    persev_a_0 = np.array(persev_a_0)\n",
    "    gamma_a_0 = np.array(gamma_a_0)\n",
    "    \n",
    "    beta_a_1 = np.array(beta_a_1)\n",
    "    phi_a_1 = np.array(phi_a_1)\n",
    "    persev_a_1 = np.array(persev_a_1)\n",
    "    gamma_a_1 = np.array(gamma_a_1)\n",
    "    \n",
    "    beta_b = np.array(beta_b)\n",
    "    phi_b = np.array(phi_b)\n",
    "    persev_b = np.array(persev_b)\n",
    "    gamma_b = np.array(gamma_b)\n",
    "    return beta_a_0,phi_a_0,persev_a_0,gamma_a_0,beta_a_1,phi_a_1,persev_a_1,gamma_a_1,beta_b,phi_b,persev_b,gamma_b\n",
    "\n",
    "def read_parameter_glm2_no_gamma(file_name): # read fitted parameters: beta_a,b;phi_a,b;persev_,b;gamma_a,b\n",
    "    parameter_result = pd.read_csv(file_name)\n",
    "    subject_num = 60\n",
    "    beta_a_0 = []\n",
    "    phi_a_0 = []\n",
    "    persev_a_0 = []\n",
    "    gamma_a_0 = []\n",
    "    \n",
    "    beta_a_1 = []\n",
    "    phi_a_1 = []\n",
    "    persev_a_1 = []\n",
    "    gamma_a_1 = []\n",
    "    \n",
    "    beta_b = []\n",
    "\n",
    "    for i in range(subject_num):\n",
    "        beta_a_0.append(parameter_result.iloc[i,1])\n",
    "    for i in range(subject_num):\n",
    "        phi_a_0.append(parameter_result.iloc[i+subject_num,1])\n",
    "    for i in range(subject_num):\n",
    "        persev_a_0.append(parameter_result.iloc[i+subject_num*2,1])\n",
    "    for i in range(subject_num):\n",
    "        gamma_a_0.append(parameter_result.iloc[i+subject_num*3,1])\n",
    "    for i in range(subject_num):\n",
    "        beta_a_1.append(parameter_result.iloc[i+subject_num*4,1])\n",
    "    for i in range(subject_num):\n",
    "        phi_a_1.append(parameter_result.iloc[i+subject_num*5,1])\n",
    "    for i in range(subject_num):\n",
    "        persev_a_1.append(parameter_result.iloc[i+subject_num*6,1])\n",
    "    for i in range(subject_num):\n",
    "        gamma_a_1.append(parameter_result.iloc[i+subject_num*7,1])\n",
    "    for i in range(subject_num):\n",
    "        beta_b.append(parameter_result.iloc[i+subject_num*8,1])\n",
    "\n",
    "        \n",
    "    beta_a_0 = np.array(beta_a_0)\n",
    "    phi_a_0 = np.array(phi_a_0)\n",
    "    persev_a_0 = np.array(persev_a_0)\n",
    "    gamma_a_0 = np.array(gamma_a_0)\n",
    "    \n",
    "    beta_a_1 = np.array(beta_a_1)\n",
    "    phi_a_1 = np.array(phi_a_1)\n",
    "    persev_a_1 = np.array(persev_a_1)\n",
    "    gamma_a_1 = np.array(gamma_a_1)\n",
    "    \n",
    "    beta_b = np.array(beta_b)\n",
    "\n",
    "    return beta_a_0,phi_a_0,persev_a_0,gamma_a_0,beta_a_1,phi_a_1,persev_a_1,gamma_a_1,beta_b\n",
    "\n",
    "\n",
    "def read_parameter_glm_7_para(file_name): # read fitted parameters: beta_a,b;phi_a,b;persev_,b;gamma_a,b\n",
    "    parameter_result = pd.read_csv(file_name)\n",
    "    subject_num = 60\n",
    "    beta_a = []\n",
    "    phi_a = []\n",
    "    persev_a = []\n",
    "    gamma_a = []\n",
    "    beta_b = []\n",
    "    phi_b = []\n",
    "    persev_b = []\n",
    "\n",
    "    for i in range(subject_num):\n",
    "        beta_a.append(parameter_result.iloc[i,1])\n",
    "    for i in range(subject_num):\n",
    "        phi_a.append(parameter_result.iloc[i+subject_num,1])\n",
    "    for i in range(subject_num):\n",
    "        persev_a.append(parameter_result.iloc[i+subject_num*2,1])\n",
    "    for i in range(subject_num):\n",
    "        gamma_a.append(parameter_result.iloc[i+subject_num*3,1])\n",
    "    for i in range(subject_num):\n",
    "        beta_b.append(parameter_result.iloc[i+subject_num*4,1])\n",
    "    for i in range(subject_num):\n",
    "        phi_b.append(parameter_result.iloc[i+subject_num*5,1])\n",
    "    for i in range(subject_num):\n",
    "        persev_b.append(parameter_result.iloc[i+subject_num*6,1])\n",
    "\n",
    "    beta_a = np.array(beta_a)\n",
    "    phi_a = np.array(phi_a)\n",
    "    persev_a = np.array(persev_a)\n",
    "    gamma_a = np.array(gamma_a)\n",
    "    beta_b = np.array(beta_b)\n",
    "    phi_b = np.array(phi_b)\n",
    "    persev_b = np.array(persev_b)\n",
    "\n",
    "    return beta_a,phi_a,persev_a,gamma_a,beta_b,phi_b,persev_b\n",
    "\n",
    "def read_parameter_happiness(file_name): #read fitted parameters: beta,phi,persev,gamma,comparison_level\n",
    "    parameter_result = pd.read_csv(file_name)\n",
    "    subject_num = 60\n",
    "    beta = []\n",
    "    phi = []\n",
    "    persev = []\n",
    "    gamma = []\n",
    "    comparison_level = []\n",
    "    for i in range(subject_num):\n",
    "        beta.append(parameter_result.iloc[i,1])\n",
    "    for i in range(subject_num):\n",
    "        phi.append(parameter_result.iloc[i+subject_num,1])\n",
    "    for i in range(subject_num):\n",
    "        persev.append(parameter_result.iloc[i+subject_num*2,1])\n",
    "    for i in range(subject_num):\n",
    "        gamma.append(parameter_result.iloc[i+subject_num*3,1])\n",
    "    for i in range(subject_num):\n",
    "        comparison_level.append(parameter_result.iloc[i+subject_num*4,1])\n",
    "    beta = np.array(beta)\n",
    "    phi = np.array(phi)\n",
    "    persev = np.array(persev)\n",
    "    gamma = np.array(gamma)\n",
    "    comparison_level = np.array(comparison_level)\n",
    "    return beta,phi,persev,gamma,comparison_level\n",
    "def read_parameter_learning(file_name): #read fitted parameters: beta,phi,persev,gamma,comparison_level\n",
    "    parameter_result = pd.read_csv(file_name)\n",
    "    subject_num = 60\n",
    "    beta = []\n",
    "    phi = []\n",
    "    persev = []\n",
    "    gamma = []\n",
    "    comparison_level = []\n",
    "    for i in range(subject_num):\n",
    "        beta.append(parameter_result.iloc[i,1])\n",
    "    for i in range(subject_num):\n",
    "        phi.append(parameter_result.iloc[i+subject_num,1])\n",
    "    for i in range(subject_num):\n",
    "        persev.append(parameter_result.iloc[i+subject_num*2,1])\n",
    "    for i in range(subject_num):\n",
    "        gamma.append(parameter_result.iloc[i+subject_num*3,1])\n",
    "    for i in range(subject_num):\n",
    "        comparison_level.append(parameter_result.iloc[i+subject_num*4,1])\n",
    "    beta = np.array(beta)\n",
    "    phi = np.array(phi)\n",
    "    persev = np.array(persev)\n",
    "    gamma = np.array(gamma)\n",
    "    comparison_level = np.array(comparison_level)\n",
    "    return beta,phi,persev,gamma,comparison_level\n",
    "def read_parameter_nhb_delta(file_name): #read fitted parameters: beta,phi,persev,gamma,learning_rate\n",
    "    parameter_result = pd.read_csv(file_name)\n",
    "    subject_num = 60\n",
    "    beta = []\n",
    "    phi = []\n",
    "    persev = []\n",
    "    gamma = []\n",
    "    learning_rate = []\n",
    "    for i in range(subject_num):\n",
    "        beta.append(parameter_result.iloc[i,1])\n",
    "    for i in range(subject_num):\n",
    "        phi.append(parameter_result.iloc[i+subject_num,1])\n",
    "    for i in range(subject_num):\n",
    "        persev.append(parameter_result.iloc[i+subject_num*2,1])\n",
    "    for i in range(subject_num):\n",
    "        gamma.append(parameter_result.iloc[i+subject_num*3,1])\n",
    "    for i in range(subject_num):\n",
    "        learning_rate.append(parameter_result.iloc[i+subject_num*4,1])\n",
    "    beta = np.array(beta)\n",
    "    phi = np.array(phi)\n",
    "    persev = np.array(persev)\n",
    "    gamma = np.array(gamma)\n",
    "    learning_rate = np.array(learning_rate)\n",
    "    return beta,phi,persev,gamma,learning_rate"
   ]
  },
  {
   "cell_type": "code",
   "execution_count": 22,
   "metadata": {},
   "outputs": [],
   "source": [
    "# calculate the log likelyhood\n",
    "def action_probability(Q,action):\n",
    "    return np.log(np.exp(Q[action])/(np.exp(Q[0])+np.exp(Q[1])+np.exp(Q[2])+np.exp(Q[3])))\n",
    "def rewards2comparison(action,reward,reward_B,gamma):\n",
    "    comparison = []\n",
    "    com = 0\n",
    "    for i in range(len(action)):\n",
    "        if action[i]!=4:\n",
    "            comparison.append(com)\n",
    "            com = reward[i] - reward_B[i] + gamma*com\n",
    "        else:\n",
    "            comparison.append(0)\n",
    "            com = gamma*com\n",
    "    return comparison\n",
    "def rewards2comparison_sqrt(action,reward,reward_B,gamma):\n",
    "    comparison = []\n",
    "    com = 0\n",
    "    for i in range(len(action)):\n",
    "        if action[i]!=4:\n",
    "            if com<0:\n",
    "                comparison.append(-np.sqrt(-com))\n",
    "            else:\n",
    "                comparison.append(np.sqrt(com))\n",
    "            com = reward[i] - reward_B[i] + gamma*com\n",
    "        else:\n",
    "            comparison.append(0)\n",
    "            com = gamma*com\n",
    "    return comparison\n",
    "def log_likelyhood_elife(file_name):#elife\n",
    "    beta,phi,persev,gamma = read_parameter(file_name)\n",
    "    subjects = 60\n",
    "    trials = 150\n",
    "    subject_loglikelyhood = []\n",
    "    \n",
    "    for s in range(subjects):\n",
    "        action,reward,reward_B,_ =read_data(s) \n",
    "\n",
    "        comparision = rewards2comparison(action,reward,reward_B,0)\n",
    "        loglikelyhood = 0\n",
    "        sig_o = 4\n",
    "        sig_d = 2.8\n",
    "        v = np.ones((4))*50\n",
    "        sig = np.ones((4))*4\n",
    "        for t in range(trials):\n",
    "            if action[t]!=4:\n",
    "                #beta:temperature; v:action value; eb:exploration bonus; pb: perseverance bonus; re: random exploration\n",
    "                eb = phi[s] * sig\n",
    "                pb = np.zeros((4))\n",
    "                re = gamma[s] * v / np.sum(sig)\n",
    "                if t>0:\n",
    "                    if action[t-1]!=4:\n",
    "                        pb[action[t-1]] = persev[s]\n",
    "                # elife: beta[s]*(v+eb+pb+re); nhb: (beta[s]*v+eb+pb+re)\n",
    "                loglikelyhood += action_probability(beta[s]*(v+eb+pb+re),action[t])\n",
    "                pe = reward[t] - v[action[t]]\n",
    "                Kgain = np.square(sig[action[t]])/(np.square(sig[action[t]])+np.square(sig_o))\n",
    "                v[action[t]] = v[action[t]] + Kgain * pe\n",
    "                sig[action[t]] = np.sqrt((1-Kgain)*np.square(sig[action[t]]))\n",
    "            sig = np.sqrt(np.square(sig)+np.square(sig_d))\n",
    "        subject_loglikelyhood.append(loglikelyhood)\n",
    "    return subject_loglikelyhood\n",
    "def log_likelyhood_nhb(file_name):#nhb\n",
    "    beta,phi,persev,gamma = read_parameter(file_name)\n",
    "    subjects = 60\n",
    "    trials = 150\n",
    "    subject_loglikelyhood = []\n",
    "    for s in range(subjects):\n",
    "        action,reward,reward_B,_ =read_data(s) \n",
    "        \n",
    "        comparision = rewards2comparison(action,reward,reward_B,0)\n",
    "        loglikelyhood = 0\n",
    "        sig_o = 4\n",
    "        sig_d = 2.8\n",
    "        v = np.ones((4))*50\n",
    "        sig = np.ones((4))*4\n",
    "        for t in range(trials):\n",
    "            if action[t]!=4:\n",
    "                #beta:temperature; v:action value; eb:exploration bonus; pb: perseverance bonus; re: random exploration\n",
    "                eb = phi[s] * sig\n",
    "                pb = np.zeros((4))\n",
    "                re = gamma[s] * v / np.sum(sig)\n",
    "                if t>0:\n",
    "                    if action[t-1]!=4:\n",
    "                        pb[action[t-1]] = persev[s]\n",
    "                # elife: beta[s]*(v+eb+pb+re); nhb: (beta[s]*v+eb+pb+re)\n",
    "                loglikelyhood += action_probability((beta[s]*v+eb+pb+re),action[t])\n",
    "                pe = reward[t] - v[action[t]]\n",
    "                Kgain = np.square(sig[action[t]])/(np.square(sig[action[t]])+np.square(sig_o))\n",
    "                v[action[t]] = v[action[t]] + Kgain * pe\n",
    "                sig[action[t]] = np.sqrt((1-Kgain)*np.square(sig[action[t]]))\n",
    "            sig = np.sqrt(np.square(sig)+np.square(sig_d))\n",
    "        subject_loglikelyhood.append(loglikelyhood)\n",
    "    return subject_loglikelyhood\n",
    "\n",
    "def log_likelyhood_nhb_c(file_name):#nhb\n",
    "    beta,phi,persev,gamma = read_parameter(file_name)\n",
    "    subjects = 60\n",
    "    trials = 150\n",
    "    subject_loglikelyhood = []\n",
    "    for s in range(subjects):\n",
    "        action,reward,reward_B,_ =read_data(s) \n",
    "        \n",
    "        comparision = rewards2comparison(action,reward,reward_B,0)\n",
    "        loglikelyhood = 0\n",
    "        sig_o = 4\n",
    "        sig_d = 2.8\n",
    "        v = np.ones((4))*50\n",
    "        sig = np.ones((4))*4\n",
    "        for t in range(trials):\n",
    "            if action[t]!=4:\n",
    "                #beta:temperature; v:action value; eb:exploration bonus; pb: perseverance bonus; re: random exploration\n",
    "                eb = phi[s] * sig\n",
    "                pb = np.zeros((4))\n",
    "                re = gamma[s] * np.ones((4))\n",
    "                if t>0:\n",
    "                    if action[t-1]!=4:\n",
    "                        pb[action[t-1]] = persev[s]\n",
    "                # elife: beta[s]*(v+eb+pb+re); nhb: (beta[s]*v+eb+pb+re)\n",
    "                loglikelyhood += action_probability((beta[s]*v+eb+pb+re),action[t])\n",
    "                pe = reward[t] - v[action[t]]\n",
    "                Kgain = np.square(sig[action[t]])/(np.square(sig[action[t]])+np.square(sig_o))\n",
    "                v[action[t]] = v[action[t]] + Kgain * pe\n",
    "                sig[action[t]] = np.sqrt((1-Kgain)*np.square(sig[action[t]]))\n",
    "            sig = np.sqrt(np.square(sig)+np.square(sig_d))\n",
    "        subject_loglikelyhood.append(loglikelyhood)\n",
    "    return subject_loglikelyhood\n",
    "\n",
    "def log_likelyhood_nhb_glm_beta(file_name):#nhb\n",
    "    beta,phi,persev,gamma,beta_a = read_parameter_glm_para(file_name)\n",
    "    subjects = 60\n",
    "    trials = 150\n",
    "    subject_loglikelyhood = []\n",
    "    for s in range(subjects):\n",
    "        action,reward,reward_B,_ =read_data(s) \n",
    "        \n",
    "        comparision = rewards2comparison(action,reward,reward_B,0)\n",
    "        loglikelyhood = 0\n",
    "        sig_o = 4\n",
    "        sig_d = 2.8\n",
    "        v = np.ones((4))*50\n",
    "        sig = np.ones((4))*4\n",
    "        for t in range(trials):\n",
    "            if action[t]!=4:\n",
    "                #beta:temperature; v:action value; eb:exploration bonus; pb: perseverance bonus; re: random exploration\n",
    "                eb = phi[s] * sig\n",
    "                pb = np.zeros((4))\n",
    "                re = gamma[s] * v / np.sum(sig)\n",
    "                if t>0:\n",
    "                    if action[t-1]!=4:\n",
    "                        pb[action[t-1]] = persev[s]\n",
    "                # elife: beta[s]*(v+eb+pb+re); nhb: (beta[s]*v+eb+pb+re)\n",
    "                loglikelyhood += action_probability(((beta_a[s]*comparision[t]+beta[s])*v+eb+pb+re),action[t])\n",
    "                pe = reward[t] - v[action[t]]\n",
    "                Kgain = np.square(sig[action[t]])/(np.square(sig[action[t]])+np.square(sig_o))\n",
    "                v[action[t]] = v[action[t]] + Kgain * pe\n",
    "                sig[action[t]] = np.sqrt((1-Kgain)*np.square(sig[action[t]]))\n",
    "            sig = np.sqrt(np.square(sig)+np.square(sig_d))\n",
    "        subject_loglikelyhood.append(loglikelyhood)\n",
    "    return subject_loglikelyhood\n",
    "\n",
    "def log_likelyhood_nhb_glm_phi(file_name):#nhb\n",
    "    beta,phi,persev,gamma,phi_a = read_parameter_glm_para(file_name)\n",
    "    subjects = 60\n",
    "    trials = 150\n",
    "    subject_loglikelyhood = []\n",
    "    for s in range(subjects):\n",
    "        action,reward,reward_B,_ =read_data(s) \n",
    "        \n",
    "        comparision = rewards2comparison(action,reward,reward_B,0)\n",
    "        loglikelyhood = 0\n",
    "        sig_o = 4\n",
    "        sig_d = 2.8\n",
    "        v = np.ones((4))*50\n",
    "        sig = np.ones((4))*4\n",
    "        for t in range(trials):\n",
    "            if action[t]!=4:\n",
    "                #beta:temperature; v:action value; eb:exploration bonus; pb: perseverance bonus; re: random exploration\n",
    "                eb = (phi_a[s]* comparision[t] + phi[s]) * sig\n",
    "                pb = np.zeros((4))\n",
    "                re = gamma[s] * v / np.sum(sig)\n",
    "                if t>0:\n",
    "                    if action[t-1]!=4:\n",
    "                        pb[action[t-1]] = persev[s]\n",
    "                # elife: beta[s]*(v+eb+pb+re); nhb: (beta[s]*v+eb+pb+re)\n",
    "                loglikelyhood += action_probability((beta[s]*v+eb+pb+re),action[t])\n",
    "                pe = reward[t] - v[action[t]]\n",
    "                Kgain = np.square(sig[action[t]])/(np.square(sig[action[t]])+np.square(sig_o))\n",
    "                v[action[t]] = v[action[t]] + Kgain * pe\n",
    "                sig[action[t]] = np.sqrt((1-Kgain)*np.square(sig[action[t]]))\n",
    "            sig = np.sqrt(np.square(sig)+np.square(sig_d))\n",
    "        subject_loglikelyhood.append(loglikelyhood)\n",
    "    return subject_loglikelyhood\n",
    "\n",
    "def log_likelyhood_nhb_glm_ru_phi(file_name):#nhb\n",
    "    beta,phi,persev,gamma,phi_a = read_parameter_glm_para(file_name)\n",
    "    subjects = 60\n",
    "    trials = 150\n",
    "    subject_loglikelyhood = []\n",
    "    for s in range(subjects):\n",
    "        action,reward,reward_B,_ =read_data(s) \n",
    "        \n",
    "        comparision = rewards2comparison(action,reward,reward_B,0)\n",
    "        loglikelyhood = 0\n",
    "        sig_o = 4\n",
    "        sig_d = 2.8\n",
    "        v = np.ones((4))*50\n",
    "        sig = np.ones((4))*4\n",
    "        for t in range(trials):\n",
    "            if action[t]!=4:\n",
    "                #beta:temperature; v:action value; eb:exploration bonus; pb: perseverance bonus; re: random exploration\n",
    "                min_sig = np.min(sig)\n",
    "                re_sig = sig - np.ones((4))*min_sig\n",
    "                eb = (phi_a[s]* comparision[t] + phi[s]) * re_sig\n",
    "                pb = np.zeros((4))\n",
    "                re = gamma[s] * v / np.sum(sig)\n",
    "                if t>0:\n",
    "                    if action[t-1]!=4:\n",
    "                        pb[action[t-1]] = persev[s]\n",
    "                # elife: beta[s]*(v+eb+pb+re); nhb: (beta[s]*v+eb+pb+re)\n",
    "                loglikelyhood += action_probability((beta[s]*v+eb+pb+re),action[t])\n",
    "                pe = reward[t] - v[action[t]]\n",
    "                Kgain = np.square(sig[action[t]])/(np.square(sig[action[t]])+np.square(sig_o))\n",
    "                v[action[t]] = v[action[t]] + Kgain * pe\n",
    "                sig[action[t]] = np.sqrt((1-Kgain)*np.square(sig[action[t]]))\n",
    "            sig = np.sqrt(np.square(sig)+np.square(sig_d))\n",
    "            \n",
    "        \n",
    "        subject_loglikelyhood.append(loglikelyhood)\n",
    "    return subject_loglikelyhood\n",
    "\n",
    "def log_likelyhood_nhb_glm_persev(file_name):#nhb\n",
    "    beta,phi,persev,gamma,persev_a = read_parameter_glm_para(file_name)\n",
    "    subjects = 60\n",
    "    trials = 150\n",
    "    subject_loglikelyhood = []\n",
    "    for s in range(subjects):\n",
    "        action,reward,reward_B,_ =read_data(s) \n",
    "        \n",
    "        comparision = rewards2comparison(action,reward,reward_B,0)\n",
    "        loglikelyhood = 0\n",
    "        sig_o = 4\n",
    "        sig_d = 2.8\n",
    "        v = np.ones((4))*50\n",
    "        sig = np.ones((4))*4\n",
    "        for t in range(trials):\n",
    "            if action[t]!=4:\n",
    "                #beta:temperature; v:action value; eb:exploration bonus; pb: perseverance bonus; re: random exploration\n",
    "                eb = phi[s] * sig\n",
    "                pb = np.zeros((4))\n",
    "                re = gamma[s] * v / np.sum(sig)\n",
    "                if t>0:\n",
    "                    if action[t-1]!=4:\n",
    "                        pb[action[t-1]] = (persev_a[s]* comparision[t] + persev[s])\n",
    "                # elife: beta[s]*(v+eb+pb+re); nhb: (beta[s]*v+eb+pb+re)\n",
    "                loglikelyhood += action_probability((beta[s]*v+eb+pb+re),action[t])\n",
    "                pe = reward[t] - v[action[t]]\n",
    "                Kgain = np.square(sig[action[t]])/(np.square(sig[action[t]])+np.square(sig_o))\n",
    "                v[action[t]] = v[action[t]] + Kgain * pe\n",
    "                sig[action[t]] = np.sqrt((1-Kgain)*np.square(sig[action[t]]))\n",
    "            sig = np.sqrt(np.square(sig)+np.square(sig_d))\n",
    "        subject_loglikelyhood.append(loglikelyhood)\n",
    "    return subject_loglikelyhood\n",
    "\n",
    "def log_likelyhood_nhb_glm_gamma(file_name):#nhb\n",
    "    beta,phi,persev,gamma,gamma_a = read_parameter_glm_para(file_name)\n",
    "    subjects = 60\n",
    "    trials = 150\n",
    "    subject_loglikelyhood = []\n",
    "    for s in range(subjects):\n",
    "        action,reward,reward_B,_ =read_data(s) \n",
    "        \n",
    "        comparision = rewards2comparison(action,reward,reward_B,0)\n",
    "        loglikelyhood = 0\n",
    "        sig_o = 4\n",
    "        sig_d = 2.8\n",
    "        v = np.ones((4))*50\n",
    "        sig = np.ones((4))*4\n",
    "        for t in range(trials):\n",
    "            if action[t]!=4:\n",
    "                #beta:temperature; v:action value; eb:exploration bonus; pb: perseverance bonus; re: random exploration\n",
    "                eb = phi[s] * sig\n",
    "                pb = np.zeros((4))\n",
    "                re = (gamma_a[s]* comparision[t] + gamma[s]) * v / np.sum(sig)\n",
    "                if t>0:\n",
    "                    if action[t-1]!=4:\n",
    "                        pb[action[t-1]] = persev[s]\n",
    "                # elife: beta[s]*(v+eb+pb+re); nhb: (beta[s]*v+eb+pb+re)\n",
    "                loglikelyhood += action_probability((beta[s]*v+eb+pb+re),action[t])\n",
    "                pe = reward[t] - v[action[t]]\n",
    "                Kgain = np.square(sig[action[t]])/(np.square(sig[action[t]])+np.square(sig_o))\n",
    "                v[action[t]] = v[action[t]] + Kgain * pe\n",
    "                sig[action[t]] = np.sqrt((1-Kgain)*np.square(sig[action[t]]))\n",
    "            sig = np.sqrt(np.square(sig)+np.square(sig_d))\n",
    "        subject_loglikelyhood.append(loglikelyhood)\n",
    "    return subject_loglikelyhood"
   ]
  },
  {
   "cell_type": "code",
   "execution_count": 23,
   "metadata": {},
   "outputs": [],
   "source": [
    "def log_likelyhood_ru_c_ver(file_name):#nhb\n",
    "    beta,phi,gamma = read_parameter_3_para(file_name)\n",
    "    subjects = 60\n",
    "    trials = 150\n",
    "    subject_loglikelyhood = []\n",
    "    for s in range(subjects):\n",
    "        action,reward,reward_B,_ =read_data(s) \n",
    "        \n",
    "        comparision = rewards2comparison(action,reward,reward_B,0)\n",
    "        loglikelyhood = 0\n",
    "        sig_o = 4\n",
    "        sig_d = 2.8\n",
    "        v = np.ones((4))*50\n",
    "        sig = np.ones((4))*4\n",
    "        for t in range(trials):\n",
    "            if action[t]!=4:\n",
    "                #beta:temperature; v:action value; eb:exploration bonus; pb: perseverance bonus; re: random exploration\n",
    "                min_sig = np.mean(sig)*np.ones((4))\n",
    "                re_sig = sig-min_sig\n",
    "                eb = phi[s] * re_sig\n",
    "                re = gamma[s] * np.ones((4))\n",
    "\n",
    "                # elife: beta[s]*(v+eb+pb+re); nhb: (beta[s]*v+eb+pb+re)\n",
    "                loglikelyhood += action_probability((beta[s]*v+eb+re),action[t])\n",
    "                pe = reward[t] - v[action[t]]\n",
    "                Kgain = np.square(sig[action[t]])/(np.square(sig[action[t]])+np.square(sig_o))\n",
    "                v[action[t]] = v[action[t]] + Kgain * pe\n",
    "                sig[action[t]] = np.sqrt((1-Kgain)*np.square(sig[action[t]]))\n",
    "            sig = np.sqrt(np.square(sig)+np.square(sig_d))\n",
    "        subject_loglikelyhood.append(loglikelyhood)\n",
    "    return subject_loglikelyhood\n",
    "\n",
    "def log_likelyhood_ru_c_vep(file_name):#nhb\n",
    "    beta,phi,persev = read_parameter_3_para(file_name)\n",
    "    subjects = 60\n",
    "    trials = 150\n",
    "    subject_loglikelyhood = []\n",
    "    for s in range(subjects):\n",
    "        action,reward,reward_B,_ =read_data(s) \n",
    "        \n",
    "        comparision = rewards2comparison(action,reward,reward_B,0)\n",
    "        loglikelyhood = 0\n",
    "        sig_o = 4\n",
    "        sig_d = 2.8\n",
    "        v = np.ones((4))*50\n",
    "        sig = np.ones((4))*4\n",
    "        for t in range(trials):\n",
    "            if action[t]!=4:\n",
    "                #beta:temperature; v:action value; eb:exploration bonus; pb: perseverance bonus; re: random exploration\n",
    "                min_sig = np.mean(sig)*np.ones((4))\n",
    "                re_sig = sig-min_sig\n",
    "                eb = phi[s] * re_sig\n",
    "                pb = np.zeros((4))\n",
    "                if t>0:\n",
    "                    if action[t-1]!=4:\n",
    "                        pb[action[t-1]] = persev[s]\n",
    "                # elife: beta[s]*(v+eb+pb+re); nhb: (beta[s]*v+eb+pb+re)\n",
    "                loglikelyhood += action_probability((beta[s]*v+eb+pb),action[t])\n",
    "                pe = reward[t] - v[action[t]]\n",
    "                Kgain = np.square(sig[action[t]])/(np.square(sig[action[t]])+np.square(sig_o))\n",
    "                v[action[t]] = v[action[t]] + Kgain * pe\n",
    "                sig[action[t]] = np.sqrt((1-Kgain)*np.square(sig[action[t]]))\n",
    "            sig = np.sqrt(np.square(sig)+np.square(sig_d))\n",
    "        subject_loglikelyhood.append(loglikelyhood)\n",
    "    return subject_loglikelyhood\n",
    "\n",
    "def log_likelyhood_ru_c_vrp(file_name):#nhb\n",
    "    beta,persev,gamma = read_parameter_3_para(file_name)\n",
    "    subjects = 60\n",
    "    trials = 150\n",
    "    subject_loglikelyhood = []\n",
    "    for s in range(subjects):\n",
    "        action,reward,reward_B,_ =read_data(s) \n",
    "        \n",
    "        comparision = rewards2comparison(action,reward,reward_B,0)\n",
    "        loglikelyhood = 0\n",
    "        sig_o = 4\n",
    "        sig_d = 2.8\n",
    "        v = np.ones((4))*50\n",
    "        sig = np.ones((4))*4\n",
    "        for t in range(trials):\n",
    "            if action[t]!=4:\n",
    "                #beta:temperature; v:action value; eb:exploration bonus; pb: perseverance bonus; re: random exploration\n",
    "                min_sig = np.mean(sig)*np.ones((4))\n",
    "                re_sig = sig-min_sig\n",
    "                pb = np.zeros((4))\n",
    "                re = gamma[s] * np.ones((4))\n",
    "                if t>0:\n",
    "                    if action[t-1]!=4:\n",
    "                        pb[action[t-1]] = persev[s]\n",
    "                # elife: beta[s]*(v+eb+pb+re); nhb: (beta[s]*v+eb+pb+re)\n",
    "                loglikelyhood += action_probability((beta[s]*v+pb+re),action[t])\n",
    "                pe = reward[t] - v[action[t]]\n",
    "                Kgain = np.square(sig[action[t]])/(np.square(sig[action[t]])+np.square(sig_o))\n",
    "                v[action[t]] = v[action[t]] + Kgain * pe\n",
    "                sig[action[t]] = np.sqrt((1-Kgain)*np.square(sig[action[t]]))\n",
    "            sig = np.sqrt(np.square(sig)+np.square(sig_d))\n",
    "        subject_loglikelyhood.append(loglikelyhood)\n",
    "    return subject_loglikelyhood\n",
    "\n",
    "def log_likelyhood_ru_c(file_name):#nhb\n",
    "    beta,phi,persev,gamma = read_parameter(file_name)\n",
    "    subjects = 60\n",
    "    trials = 150\n",
    "    subject_loglikelyhood = []\n",
    "    for s in range(subjects):\n",
    "        action,reward,reward_B,_ =read_data(s) \n",
    "        \n",
    "        comparision = rewards2comparison(action,reward,reward_B,0)\n",
    "        loglikelyhood = 0\n",
    "        sig_o = 4\n",
    "        sig_d = 2.8\n",
    "        v = np.ones((4))*50\n",
    "        sig = np.ones((4))*4\n",
    "        for t in range(trials):\n",
    "            if action[t]!=4:\n",
    "                #beta:temperature; v:action value; eb:exploration bonus; pb: perseverance bonus; re: random exploration\n",
    "                min_sig = np.mean(sig)*np.ones((4))\n",
    "                re_sig = sig-min_sig\n",
    "                eb = (phi[s]) * re_sig\n",
    "                pb = np.zeros((4))\n",
    "                re = gamma[s] * np.ones((4))\n",
    "                if t>0:\n",
    "                    if action[t-1]!=4:\n",
    "                        pb[action[t-1]] = persev[s]\n",
    "                # elife: beta[s]*(v+eb+pb+re); nhb: (beta[s]*v+eb+pb+re)\n",
    "                loglikelyhood += action_probability((beta[s]*v+eb+pb+re),action[t])\n",
    "                pe = reward[t] - v[action[t]]\n",
    "                Kgain = np.square(sig[action[t]])/(np.square(sig[action[t]])+np.square(sig_o))\n",
    "                v[action[t]] = v[action[t]] + Kgain * pe\n",
    "                sig[action[t]] = np.sqrt((1-Kgain)*np.square(sig[action[t]]))\n",
    "            sig = np.sqrt(np.square(sig)+np.square(sig_d))\n",
    "        subject_loglikelyhood.append(loglikelyhood)\n",
    "    return subject_loglikelyhood\n",
    "\n",
    "\n",
    "def log_likelyhood_nhb_glm_ru_c(file_name):#nhb\n",
    "    beta_a,phi_a,persev_a,gamma_a,beta_b,phi_b,persev_b,gamma_b = read_parameter_glm(file_name)\n",
    "    subjects = 60\n",
    "    trials = 150\n",
    "    subject_loglikelyhood = []\n",
    "    for s in range(subjects):\n",
    "        action,reward,reward_B,_ =read_data(s) \n",
    "        comparision = rewards2comparison(action,reward,reward_B,0)\n",
    "        loglikelyhood = 0\n",
    "        sig_o = 4\n",
    "        sig_d = 2.8\n",
    "        v = np.ones((4))*50\n",
    "        sig = np.ones((4))*4\n",
    "        for t in range(trials):\n",
    "            if action[t]!=4:\n",
    "                #beta:temperature; v:action value; eb:exploration bonus; pb: perseverance bonus; re: random exploration\n",
    "                min_sig = np.mean(sig)*np.ones((4))\n",
    "                re_sig = sig-min_sig\n",
    "                eb = (phi_a[s]*comparision[t]+phi_b[s]) * re_sig\n",
    "                pb = np.zeros((4))\n",
    "                re = (gamma_a[s]*comparision[t]+gamma_b[s]) * np.ones((4))\n",
    "                if t>0:\n",
    "                    if action[t-1]!=4:\n",
    "                        pb[action[t-1]] = (persev_a[s]*comparision[t]+persev_b[s])\n",
    "                # elife: beta[s]*(v+eb+pb+re); nhb: (beta[s]*v+eb+pb+re)\n",
    "                loglikelyhood += action_probability(((beta_a[s]*comparision[t]+beta_b[s])*v+eb+pb+re),action[t])\n",
    "                pe = reward[t] - v[action[t]]\n",
    "                Kgain = np.square(sig[action[t]])/(np.square(sig[action[t]])+np.square(sig_o))\n",
    "                v[action[t]] = v[action[t]] + Kgain * pe\n",
    "                sig[action[t]] = np.sqrt((1-Kgain)*np.square(sig[action[t]]))\n",
    "            sig = np.sqrt(np.square(sig)+np.square(sig_d))\n",
    "        subject_loglikelyhood.append(loglikelyhood)\n",
    "    return subject_loglikelyhood\n",
    "\n",
    "def log_likelyhood_nhb_glm2_ru_c(file_name):#nhb\n",
    "    beta_a_0,phi_a_0,persev_a_0,gamma_a_0,beta_a_1,phi_a_1,persev_a_1,gamma_a_1,beta_b,phi_b,persev_b,gamma_b = read_parameter_glm2(file_name)\n",
    "    subjects = 60\n",
    "    trials = 150\n",
    "    subject_loglikelyhood = []\n",
    "    for s in range(subjects):\n",
    "        action,reward,reward_B,_ =read_data(s) \n",
    "        comparision = rewards2comparison(action,reward,reward_B,0)\n",
    "        loglikelyhood = 0\n",
    "        sig_o = 4\n",
    "        sig_d = 2.8\n",
    "        v = np.ones((4))*50\n",
    "        sig = np.ones((4))*4\n",
    "        for t in range(trials):\n",
    "            if action[t]!=4:\n",
    "                if comparision[t]<0:\n",
    "                    \n",
    "                    #beta:temperature; v:action value; eb:exploration bonus; pb: perseverance bonus; re: random exploration\n",
    "                    min_sig = np.mean(sig)*np.ones((4))\n",
    "                    re_sig = sig-min_sig\n",
    "                    eb = (phi_a_0[s]*comparision[t]+phi_b[s]) * re_sig\n",
    "                    pb = np.zeros((4))\n",
    "                    re = (gamma_a_0[s]*comparision[t]+gamma_b[s]) * np.ones((4))\n",
    "                    if t>0:\n",
    "                        if action[t-1]!=4:\n",
    "                            pb[action[t-1]] = (persev_a_0[s]*comparision[t]+persev_b[s])\n",
    "                    # elife: beta[s]*(v+eb+pb+re); nhb: (beta[s]*v+eb+pb+re)\n",
    "                    loglikelyhood += action_probability(((beta_a_0[s]*comparision[t]+beta_b[s])*v+eb+pb+re),action[t])\n",
    "                if comparision[t]>=0:\n",
    "                    min_sig = np.mean(sig)*np.ones((4))\n",
    "                    re_sig = sig-min_sig\n",
    "                    eb = (phi_a_1[s]*comparision[t]+phi_b[s]) * re_sig\n",
    "                    pb = np.zeros((4))\n",
    "                    re = (gamma_a_1[s]*comparision[t]+gamma_b[s]) * np.ones((4))\n",
    "                    if t>0:\n",
    "                        if action[t-1]!=4:\n",
    "                            pb[action[t-1]] = (persev_a_1[s]*comparision[t]+persev_b[s])\n",
    "                    # elife: beta[s]*(v+eb+pb+re); nhb: (beta[s]*v+eb+pb+re)\n",
    "                    loglikelyhood += action_probability(((beta_a_1[s]*comparision[t]+beta_b[s])*v+eb+pb+re),action[t])\n",
    "            \n",
    "                pe = reward[t] - v[action[t]]\n",
    "                Kgain = np.square(sig[action[t]])/(np.square(sig[action[t]])+np.square(sig_o))\n",
    "                v[action[t]] = v[action[t]] + Kgain * pe\n",
    "                sig[action[t]] = np.sqrt((1-Kgain)*np.square(sig[action[t]]))\n",
    "            sig = np.sqrt(np.square(sig)+np.square(sig_d))\n",
    "        subject_loglikelyhood.append(loglikelyhood)\n",
    "    return subject_loglikelyhood\n",
    "\n",
    "\n",
    "\n",
    "def log_likelyhood_nhb_glm_ru_c_ver(file_name):#nhb\n",
    "    beta_a,phi_a,gamma_a,beta_b,phi_b,persev_b,gamma_b = read_parameter_glm_7_para(file_name)\n",
    "    subjects = 60\n",
    "    trials = 150\n",
    "    subject_loglikelyhood = []\n",
    "    for s in range(subjects):\n",
    "        action,reward,reward_B,_ =read_data(s) \n",
    "        comparision = rewards2comparison(action,reward,reward_B,0)\n",
    "        loglikelyhood = 0\n",
    "        sig_o = 4\n",
    "        sig_d = 2.8\n",
    "        v = np.ones((4))*50\n",
    "        sig = np.ones((4))*4\n",
    "        for t in range(trials):\n",
    "            if action[t]!=4:\n",
    "                #beta:temperature; v:action value; eb:exploration bonus; pb: perseverance bonus; re: random exploration\n",
    "                min_sig = np.mean(sig)*np.ones((4))\n",
    "                re_sig = sig-min_sig\n",
    "                eb = (phi_a[s]*comparision[t]+phi_b[s]) * re_sig\n",
    "                pb = np.zeros((4))\n",
    "                re = (gamma_a[s]*comparision[t]+gamma_b[s]) * np.ones((4))\n",
    "                if t>0:\n",
    "                    if action[t-1]!=4:\n",
    "                        pb[action[t-1]] = (persev_b[s])\n",
    "                # elife: beta[s]*(v+eb+pb+re); nhb: (beta[s]*v+eb+pb+re)\n",
    "                loglikelyhood += action_probability(((beta_a[s]*comparision[t]+beta_b[s])*v+eb+pb+re),action[t])\n",
    "                pe = reward[t] - v[action[t]]\n",
    "                Kgain = np.square(sig[action[t]])/(np.square(sig[action[t]])+np.square(sig_o))\n",
    "                v[action[t]] = v[action[t]] + Kgain * pe\n",
    "                sig[action[t]] = np.sqrt((1-Kgain)*np.square(sig[action[t]]))\n",
    "            sig = np.sqrt(np.square(sig)+np.square(sig_d))\n",
    "        subject_loglikelyhood.append(loglikelyhood)\n",
    "    return subject_loglikelyhood\n",
    "\n",
    "def log_likelyhood_nhb_glm_ru_c_vep(file_name):#nhb\n",
    "    beta_a,phi_a,persev_a,beta_b,phi_b,persev_b,gamma_b = read_parameter_glm_7_para(file_name)\n",
    "    subjects = 60\n",
    "    trials = 150\n",
    "    subject_loglikelyhood = []\n",
    "    for s in range(subjects):\n",
    "        action,reward,reward_B,_ =read_data(s) \n",
    "        comparision = rewards2comparison(action,reward,reward_B,0)\n",
    "        loglikelyhood = 0\n",
    "        sig_o = 4\n",
    "        sig_d = 2.8\n",
    "        v = np.ones((4))*50\n",
    "        sig = np.ones((4))*4\n",
    "        for t in range(trials):\n",
    "            if action[t]!=4:\n",
    "                #beta:temperature; v:action value; eb:exploration bonus; pb: perseverance bonus; re: random exploration\n",
    "                min_sig = np.mean(sig)*np.ones((4))\n",
    "                re_sig = sig-min_sig\n",
    "                eb = (phi_a[s]*comparision[t]+phi_b[s]) * re_sig\n",
    "                pb = np.zeros((4))\n",
    "                re = (gamma_b[s]) * np.ones((4))\n",
    "                if t>0:\n",
    "                    if action[t-1]!=4:\n",
    "                        pb[action[t-1]] = (persev_a[s]*comparision[t]+persev_b[s])\n",
    "                # elife: beta[s]*(v+eb+pb+re); nhb: (beta[s]*v+eb+pb+re)\n",
    "                loglikelyhood += action_probability(((beta_a[s]*comparision[t]+beta_b[s])*v+eb+pb+re),action[t])\n",
    "                pe = reward[t] - v[action[t]]\n",
    "                Kgain = np.square(sig[action[t]])/(np.square(sig[action[t]])+np.square(sig_o))\n",
    "                v[action[t]] = v[action[t]] + Kgain * pe\n",
    "                sig[action[t]] = np.sqrt((1-Kgain)*np.square(sig[action[t]]))\n",
    "            sig = np.sqrt(np.square(sig)+np.square(sig_d))\n",
    "        subject_loglikelyhood.append(loglikelyhood)\n",
    "    return subject_loglikelyhood\n",
    "\n",
    "def log_likelyhood_nhb_glm_ru_c_vrp(file_name):#nhb\n",
    "    beta_a,persev_a,gamma_a,beta_b,phi_b,persev_b,gamma_b = read_parameter_glm_7_para(file_name)\n",
    "    subjects = 60\n",
    "    trials = 150\n",
    "    subject_loglikelyhood = []\n",
    "    for s in range(subjects):\n",
    "        action,reward,reward_B,_ =read_data(s) \n",
    "        comparision = rewards2comparison(action,reward,reward_B,0)\n",
    "        loglikelyhood = 0\n",
    "        sig_o = 4\n",
    "        sig_d = 2.8\n",
    "        v = np.ones((4))*50\n",
    "        sig = np.ones((4))*4\n",
    "        for t in range(trials):\n",
    "            if action[t]!=4:\n",
    "                #beta:temperature; v:action value; eb:exploration bonus; pb: perseverance bonus; re: random exploration\n",
    "                min_sig = np.mean(sig)*np.ones((4))\n",
    "                re_sig = sig-min_sig\n",
    "                eb = (phi_b[s]) * re_sig\n",
    "                pb = np.zeros((4))\n",
    "                re = (gamma_a[s]*comparision[t]+gamma_b[s]) * np.ones((4))\n",
    "                if t>0:\n",
    "                    if action[t-1]!=4:\n",
    "                        pb[action[t-1]] = (persev_a[s]*comparision[t]+persev_b[s])\n",
    "                # elife: beta[s]*(v+eb+pb+re); nhb: (beta[s]*v+eb+pb+re)\n",
    "                loglikelyhood += action_probability(((beta_a[s]*comparision[t]+beta_b[s])*v+eb+pb+re),action[t])\n",
    "                pe = reward[t] - v[action[t]]\n",
    "                Kgain = np.square(sig[action[t]])/(np.square(sig[action[t]])+np.square(sig_o))\n",
    "                v[action[t]] = v[action[t]] + Kgain * pe\n",
    "                sig[action[t]] = np.sqrt((1-Kgain)*np.square(sig[action[t]]))\n",
    "            sig = np.sqrt(np.square(sig)+np.square(sig_d))\n",
    "        subject_loglikelyhood.append(loglikelyhood)\n",
    "    return subject_loglikelyhood\n",
    "\n",
    "def log_likelyhood_nhb_glm_ru_c_erp(file_name):#nhb\n",
    "    phi_a,persev_a,gamma_a,beta_b,phi_b,persev_b,gamma_b = read_parameter_glm_7_para(file_name)\n",
    "    subjects = 60\n",
    "    trials = 150\n",
    "    subject_loglikelyhood = []\n",
    "    for s in range(subjects):\n",
    "        action,reward,reward_B,_ =read_data(s) \n",
    "        comparision = rewards2comparison(action,reward,reward_B,0)\n",
    "        loglikelyhood = 0\n",
    "        sig_o = 4\n",
    "        sig_d = 2.8\n",
    "        v = np.ones((4))*50\n",
    "        sig = np.ones((4))*4\n",
    "        for t in range(trials):\n",
    "            if action[t]!=4:\n",
    "                #beta:temperature; v:action value; eb:exploration bonus; pb: perseverance bonus; re: random exploration\n",
    "                min_sig = np.mean(sig)*np.ones((4))\n",
    "                re_sig = sig-min_sig\n",
    "                eb = (phi_a[s]*comparision[t]+phi_b[s]) * re_sig\n",
    "                pb = np.zeros((4))\n",
    "                re = (gamma_a[s]*comparision[t]+gamma_b[s]) * np.ones((4))\n",
    "                if t>0:\n",
    "                    if action[t-1]!=4:\n",
    "                        pb[action[t-1]] = (persev_a[s]*comparision[t]+persev_b[s])\n",
    "                # elife: beta[s]*(v+eb+pb+re); nhb: (beta[s]*v+eb+pb+re)\n",
    "                loglikelyhood += action_probability(((beta_b[s])*v+eb+pb+re),action[t])\n",
    "                pe = reward[t] - v[action[t]]\n",
    "                Kgain = np.square(sig[action[t]])/(np.square(sig[action[t]])+np.square(sig_o))\n",
    "                v[action[t]] = v[action[t]] + Kgain * pe\n",
    "                sig[action[t]] = np.sqrt((1-Kgain)*np.square(sig[action[t]]))\n",
    "            sig = np.sqrt(np.square(sig)+np.square(sig_d))\n",
    "        subject_loglikelyhood.append(loglikelyhood)\n",
    "    return subject_loglikelyhood\n",
    "\n",
    "\n",
    "\n",
    "def log_likelyhood_nhb_glm_ru_c_beta(file_name):#nhb\n",
    "    beta,phi,persev,gamma,beta_a = read_parameter_glm_para(file_name)\n",
    "    subjects = 60\n",
    "    trials = 150\n",
    "    subject_loglikelyhood = []\n",
    "    for s in range(subjects):\n",
    "        action,reward,reward_B,_ =read_data(s) \n",
    "        \n",
    "        comparision = rewards2comparison(action,reward,reward_B,0)\n",
    "        loglikelyhood = 0\n",
    "        sig_o = 4\n",
    "        sig_d = 2.8\n",
    "        v = np.ones((4))*50\n",
    "        sig = np.ones((4))*4\n",
    "        for t in range(trials):\n",
    "            if action[t]!=4:\n",
    "                #beta:temperature; v:action value; eb:exploration bonus; pb: perseverance bonus; re: random exploration\n",
    "                min_sig = np.mean(sig)*np.ones((4))\n",
    "                re_sig = sig-min_sig\n",
    "                eb = phi[s] * re_sig\n",
    "                pb = np.zeros((4))\n",
    "                re = gamma[s] * np.ones((4))\n",
    "                if t>0:\n",
    "                    if action[t-1]!=4:\n",
    "                        pb[action[t-1]] = persev[s]\n",
    "                # elife: beta[s]*(v+eb+pb+re); nhb: (beta[s]*v+eb+pb+re)\n",
    "                loglikelyhood += action_probability(((beta_a[s]*comparision[t]+beta[s])*v+eb+pb+re),action[t])\n",
    "                pe = reward[t] - v[action[t]]\n",
    "                Kgain = np.square(sig[action[t]])/(np.square(sig[action[t]])+np.square(sig_o))\n",
    "                v[action[t]] = v[action[t]] + Kgain * pe\n",
    "                sig[action[t]] = np.sqrt((1-Kgain)*np.square(sig[action[t]]))\n",
    "            sig = np.sqrt(np.square(sig)+np.square(sig_d))\n",
    "        subject_loglikelyhood.append(loglikelyhood)\n",
    "    return subject_loglikelyhood\n",
    "\n",
    "def log_likelyhood_nhb_glm_ru_c_phi(file_name):#nhb\n",
    "    beta,phi,persev,gamma,phi_a = read_parameter_glm_para(file_name)\n",
    "    subjects = 60\n",
    "    trials = 150\n",
    "    subject_loglikelyhood = []\n",
    "    for s in range(subjects):\n",
    "        action,reward,reward_B,_ =read_data(s) \n",
    "        \n",
    "        comparision = rewards2comparison(action,reward,reward_B,0)\n",
    "        loglikelyhood = 0\n",
    "        sig_o = 4\n",
    "        sig_d = 2.8\n",
    "        v = np.ones((4))*50\n",
    "        sig = np.ones((4))*4\n",
    "        for t in range(trials):\n",
    "            if action[t]!=4:\n",
    "                #beta:temperature; v:action value; eb:exploration bonus; pb: perseverance bonus; re: random exploration\n",
    "                min_sig = np.mean(sig)*np.ones((4))\n",
    "                re_sig = sig-min_sig\n",
    "                eb = (phi_a[s]* comparision[t] + phi[s]) * re_sig\n",
    "                pb = np.zeros((4))\n",
    "                re = gamma[s] * np.ones((4))\n",
    "                if t>0:\n",
    "                    if action[t-1]!=4:\n",
    "                        pb[action[t-1]] = persev[s]\n",
    "                # elife: beta[s]*(v+eb+pb+re); nhb: (beta[s]*v+eb+pb+re)\n",
    "                loglikelyhood += action_probability((beta[s]*v+eb+pb+re),action[t])\n",
    "                pe = reward[t] - v[action[t]]\n",
    "                Kgain = np.square(sig[action[t]])/(np.square(sig[action[t]])+np.square(sig_o))\n",
    "                v[action[t]] = v[action[t]] + Kgain * pe\n",
    "                sig[action[t]] = np.sqrt((1-Kgain)*np.square(sig[action[t]]))\n",
    "            sig = np.sqrt(np.square(sig)+np.square(sig_d))\n",
    "        subject_loglikelyhood.append(loglikelyhood)\n",
    "    return subject_loglikelyhood\n",
    "\n",
    "def log_likelyhood_nhb_glm_ru_c_persev(file_name):#nhb\n",
    "    beta,phi,persev,gamma,persev_a = read_parameter_glm_para(file_name)\n",
    "    subjects = 60\n",
    "    trials = 150\n",
    "    subject_loglikelyhood = []\n",
    "    for s in range(subjects):\n",
    "        action,reward,reward_B,_ =read_data(s) \n",
    "        \n",
    "        comparision = rewards2comparison(action,reward,reward_B,0)\n",
    "        loglikelyhood = 0\n",
    "        sig_o = 4\n",
    "        sig_d = 2.8\n",
    "        v = np.ones((4))*50\n",
    "        sig = np.ones((4))*4\n",
    "        for t in range(trials):\n",
    "            if action[t]!=4:\n",
    "                #beta:temperature; v:action value; eb:exploration bonus; pb: perseverance bonus; re: random exploration\n",
    "                min_sig = np.mean(sig)*np.ones((4))\n",
    "                re_sig = sig-min_sig\n",
    "                eb = phi[s] * re_sig\n",
    "                pb = np.zeros((4))\n",
    "                re = gamma[s] * np.ones((4))\n",
    "                if t>0:\n",
    "                    if action[t-1]!=4:\n",
    "                        pb[action[t-1]] = (persev_a[s]* comparision[t] + persev[s])\n",
    "                # elife: beta[s]*(v+eb+pb+re); nhb: (beta[s]*v+eb+pb+re)\n",
    "                loglikelyhood += action_probability((beta[s]*v+eb+pb+re),action[t])\n",
    "                pe = reward[t] - v[action[t]]\n",
    "                Kgain = np.square(sig[action[t]])/(np.square(sig[action[t]])+np.square(sig_o))\n",
    "                v[action[t]] = v[action[t]] + Kgain * pe\n",
    "                sig[action[t]] = np.sqrt((1-Kgain)*np.square(sig[action[t]]))\n",
    "            sig = np.sqrt(np.square(sig)+np.square(sig_d))\n",
    "        subject_loglikelyhood.append(loglikelyhood)\n",
    "    return subject_loglikelyhood\n",
    "\n",
    "def log_likelyhood_nhb_glm_ru_c_gamma(file_name):#nhb\n",
    "    beta,phi,persev,gamma,gamma_a = read_parameter_glm_para(file_name)\n",
    "    subjects = 60\n",
    "    trials = 150\n",
    "    subject_loglikelyhood = []\n",
    "    for s in range(subjects):\n",
    "        action,reward,reward_B,_ =read_data(s) \n",
    "        \n",
    "        comparision = rewards2comparison(action,reward,reward_B,0)\n",
    "        loglikelyhood = 0\n",
    "        sig_o = 4\n",
    "        sig_d = 2.8\n",
    "        v = np.ones((4))*50\n",
    "        sig = np.ones((4))*4\n",
    "        for t in range(trials):\n",
    "            if action[t]!=4:\n",
    "                #beta:temperature; v:action value; eb:exploration bonus; pb: perseverance bonus; re: random exploration\n",
    "                min_sig = np.mean(sig)*np.ones((4))\n",
    "                re_sig = sig-min_sig\n",
    "                eb = phi[s] * re_sig\n",
    "                pb = np.zeros((4))\n",
    "                re = (gamma_a[s]* comparision[t] + gamma[s]) * np.ones((4))\n",
    "                if t>0:\n",
    "                    if action[t-1]!=4:\n",
    "                        pb[action[t-1]] = persev[s]\n",
    "                # elife: beta[s]*(v+eb+pb+re); nhb: (beta[s]*v+eb+pb+re)\n",
    "                loglikelyhood += action_probability((beta[s]*v+eb+pb+re),action[t])\n",
    "                pe = reward[t] - v[action[t]]\n",
    "                Kgain = np.square(sig[action[t]])/(np.square(sig[action[t]])+np.square(sig_o))\n",
    "                v[action[t]] = v[action[t]] + Kgain * pe\n",
    "                sig[action[t]] = np.sqrt((1-Kgain)*np.square(sig[action[t]]))\n",
    "            sig = np.sqrt(np.square(sig)+np.square(sig_d))\n",
    "        subject_loglikelyhood.append(loglikelyhood)\n",
    "    return subject_loglikelyhood\n",
    "\n",
    "def log_likelyhood_nhb_glm_ru_no_gamma(file_name):#nhb\n",
    "    beta_a,phi_a,persev_a,beta_b,phi_b,persev_b = read_parameter_glm_3_para(file_name)\n",
    "    subjects = 60\n",
    "    trials = 150\n",
    "    subject_loglikelyhood = []\n",
    "    for s in range(subjects):\n",
    "        action,reward,reward_B,_ =read_data(s) \n",
    "        comparision = rewards2comparison(action,reward,reward_B,0)\n",
    "        loglikelyhood = 0\n",
    "        sig_o = 4\n",
    "        sig_d = 2.8\n",
    "        v = np.ones((4))*50\n",
    "        sig = np.ones((4))*4\n",
    "        for t in range(trials):\n",
    "            if action[t]!=4:\n",
    "                #beta:temperature; v:action value; eb:exploration bonus; pb: perseverance bonus; re: random exploration\n",
    "                min_sig = np.mean(sig)*np.ones((4))\n",
    "                re_sig = sig-min_sig\n",
    "                eb = (phi_a[s]*comparision[t]+phi_b[s]) * re_sig\n",
    "                pb = np.zeros((4))\n",
    "                if t>0:\n",
    "                    if action[t-1]!=4:\n",
    "                        pb[action[t-1]] = (persev_a[s]*comparision[t]+persev_b[s])\n",
    "                # elife: beta[s]*(v+eb+pb+re); nhb: (beta[s]*v+eb+pb+re)\n",
    "                loglikelyhood += action_probability(((beta_a[s]*comparision[t]+beta_b[s])*v+eb+pb),action[t])\n",
    "                pe = reward[t] - v[action[t]]\n",
    "                Kgain = np.square(sig[action[t]])/(np.square(sig[action[t]])+np.square(sig_o))\n",
    "                v[action[t]] = v[action[t]] + Kgain * pe\n",
    "                sig[action[t]] = np.sqrt((1-Kgain)*np.square(sig[action[t]]))\n",
    "            sig = np.sqrt(np.square(sig)+np.square(sig_d))\n",
    "        subject_loglikelyhood.append(loglikelyhood)\n",
    "    return subject_loglikelyhood\n",
    "\n",
    "def log_likelyhood_nhb_glm_ru_no_gamma_sqrt(file_name):#nhb\n",
    "    beta_a,phi_a,persev_a,beta_b,phi_b,persev_b = read_parameter_glm_3_para(file_name)\n",
    "    subjects = 60\n",
    "    trials = 150\n",
    "    subject_loglikelyhood = []\n",
    "    for s in range(subjects):\n",
    "        action,reward,reward_B,_ =read_data(s) \n",
    "        comparision = rewards2comparison_sqrt(action,reward,reward_B,0)\n",
    "        loglikelyhood = 0\n",
    "        sig_o = 4\n",
    "        sig_d = 2.8\n",
    "        v = np.ones((4))*50\n",
    "        sig = np.ones((4))*4\n",
    "        for t in range(trials):\n",
    "            if action[t]!=4:\n",
    "                #beta:temperature; v:action value; eb:exploration bonus; pb: perseverance bonus; re: random exploration\n",
    "                min_sig = np.mean(sig)*np.ones((4))\n",
    "                re_sig = sig-min_sig\n",
    "                eb = (phi_a[s]*comparision[t]+phi_b[s]) * re_sig\n",
    "                pb = np.zeros((4))\n",
    "                if t>0:\n",
    "                    if action[t-1]!=4:\n",
    "                        pb[action[t-1]] = (persev_a[s]*comparision[t]+persev_b[s])\n",
    "                # elife: beta[s]*(v+eb+pb+re); nhb: (beta[s]*v+eb+pb+re)\n",
    "                loglikelyhood += action_probability(((beta_a[s]*comparision[t]+beta_b[s])*v+eb+pb),action[t])\n",
    "                pe = reward[t] - v[action[t]]\n",
    "                Kgain = np.square(sig[action[t]])/(np.square(sig[action[t]])+np.square(sig_o))\n",
    "                v[action[t]] = v[action[t]] + Kgain * pe\n",
    "                sig[action[t]] = np.sqrt((1-Kgain)*np.square(sig[action[t]]))\n",
    "            sig = np.sqrt(np.square(sig)+np.square(sig_d))\n",
    "        subject_loglikelyhood.append(loglikelyhood)\n",
    "    return subject_loglikelyhood\n",
    "\n",
    "def log_likelyhood_nhb_glm2_ru_no_gamma_sqrt(file_name):#nhb\n",
    "    beta_a_0,phi_a_0,persev_a_0,beta_a_1,phi_a_1,persev_a_1,beta_b,phi_b,persev_b = read_parameter_glm2_no_gamma(file_name)\n",
    "    subjects = 60\n",
    "    trials = 150\n",
    "    subject_loglikelyhood = []\n",
    "    for s in range(subjects):\n",
    "        action,reward,reward_B,_ =read_data(s) \n",
    "        comparision = rewards2comparison_sqrt(action,reward,reward_B,0)\n",
    "        loglikelyhood = 0\n",
    "        sig_o = 4\n",
    "        sig_d = 2.8\n",
    "        v = np.ones((4))*50\n",
    "        sig = np.ones((4))*4\n",
    "        for t in range(trials):\n",
    "            if action[t]!=4:\n",
    "                if comparision[t]<0:\n",
    "                    \n",
    "                    #beta:temperature; v:action value; eb:exploration bonus; pb: perseverance bonus; re: random exploration\n",
    "                    min_sig = np.mean(sig)*np.ones((4))\n",
    "                    re_sig = sig-min_sig\n",
    "                    eb = (phi_a_0[s]*comparision[t]+phi_b[s]) * re_sig\n",
    "                    pb = np.zeros((4))\n",
    "                    if t>0:\n",
    "                        if action[t-1]!=4:\n",
    "                            pb[action[t-1]] = (persev_a_0[s]*comparision[t]+persev_b[s])\n",
    "                    # elife: beta[s]*(v+eb+pb+re); nhb: (beta[s]*v+eb+pb+re)\n",
    "                    loglikelyhood += action_probability(((beta_a_0[s]*comparision[t]+beta_b[s])*v+eb+pb),action[t])\n",
    "                if comparision[t]>=0:\n",
    "                    min_sig = np.mean(sig)*np.ones((4))\n",
    "                    re_sig = sig-min_sig\n",
    "                    eb = (phi_a_1[s]*comparision[t]+phi_b[s]) * re_sig\n",
    "                    pb = np.zeros((4))\n",
    "                    if t>0:\n",
    "                        if action[t-1]!=4:\n",
    "                            pb[action[t-1]] = (persev_a_1[s]*comparision[t]+persev_b[s])\n",
    "                    # elife: beta[s]*(v+eb+pb+re); nhb: (beta[s]*v+eb+pb+re)\n",
    "                    loglikelyhood += action_probability(((beta_a_1[s]*comparision[t]+beta_b[s])*v+eb+pb),action[t])\n",
    "            \n",
    "                pe = reward[t] - v[action[t]]\n",
    "                Kgain = np.square(sig[action[t]])/(np.square(sig[action[t]])+np.square(sig_o))\n",
    "                v[action[t]] = v[action[t]] + Kgain * pe\n",
    "                sig[action[t]] = np.sqrt((1-Kgain)*np.square(sig[action[t]]))\n",
    "            sig = np.sqrt(np.square(sig)+np.square(sig_d))\n",
    "        subject_loglikelyhood.append(loglikelyhood)\n",
    "    return subject_loglikelyhood"
   ]
  },
  {
   "cell_type": "code",
   "execution_count": 38,
   "metadata": {},
   "outputs": [],
   "source": [
    "reward,reward_B,happiness = happiness_reward()\n",
    "beta_r = []\n",
    "beta_c = []\n",
    "subjects = 60\n",
    "for j in range(subjects):\n",
    "    happy = happiness[j]\n",
    "    r = reward[j]\n",
    "    c= []\n",
    "    for i in range(len(reward[j])):\n",
    "        c.append(reward[j][i]-reward_B[j][i])\n",
    "    data = {'happy':happy,'r':r,'c':c}\n",
    "    data = pd.DataFrame(data)\n",
    "    lm = ols('happy ~ r + c',data=data).fit()\n",
    "    # beta_r.append(lm.params['r'])\n",
    "    # beta_c.append(lm.params['c'])\n",
    "    if lm.pvalues['r']<=0.05:\n",
    "        beta_r.append(lm.params['r'])\n",
    "    if lm.pvalues['c']<=0.05:\n",
    "        beta_c.append(lm.params['c'])\n",
    "data = {'happiness':happy,'r':r,'c':c}\n",
    "# data = pd.DataFrame(data)\n",
    "# lm = ols('happy ~ r + r_b',data=data).fit()\n",
    "# lm.summary()"
   ]
  },
  {
   "cell_type": "code",
   "execution_count": 48,
   "metadata": {},
   "outputs": [],
   "source": [
    "reward,reward_B,happiness = happiness_reward()\n",
    "beta_r = []\n",
    "subjects = 60\n",
    "for j in range(subjects):\n",
    "    happy = happiness[j]\n",
    "    r = reward[j]\n",
    "    data = {'happy':happy,'r':r}\n",
    "    data = pd.DataFrame(data)\n",
    "    lm = ols('happy ~ r',data=data).fit()\n",
    "    # beta_r.append(lm.params['r'])\n",
    "    if lm.pvalues['r']<=0.05:\n",
    "        beta_r.append(lm.params['r'])\n",
    "# data = pd.DataFrame(data)\n",
    "# lm = ols('happy ~ r + r_b',data=data).fit()\n",
    "# lm.summary()"
   ]
  },
  {
   "cell_type": "code",
   "execution_count": 49,
   "metadata": {},
   "outputs": [
    {
     "name": "stdout",
     "output_type": "stream",
     "text": [
      "[0.05594754822369834, 0.02504336935358145, 0.06690377516044907, 0.0388828959080581, 0.09255547602004294, 0.08880143281330995, 0.09091213266941846, 0.019048905560238045, 0.09877500563249703, 0.047862580278879185, 0.14287661721076234, 0.07033924037352855, 0.012393383640115281, 0.07112573941204262, 0.029896833357214506, 0.03040620345846431, 0.06744041201444849, 0.067045238100532, 0.09460612108034946, 0.03368003544773852, 0.05756612145782165, 0.05407755408085139, 0.021072608827927698, 0.054150242243017566, 0.03162031427404478, 0.06797391613464653, 0.07208273199078631, 0.05767286619285421, 0.10501010039871983, 0.05993887796112641, 0.08778148514955975, 0.06529787606929294, 0.05983590582440814, 0.07324004226529536, 0.05853356718001686, 0.07873221477668739, 0.03535113395173634, 0.07984430620240418, 0.02215816355027089, 0.08012732810614097, 0.0625173018992201, 0.11227078583127276, 0.08486894991146042, 0.10204477536995205, 0.0594998585394989, 0.04524243269075282, 0.027250451307349093, 0.022183889913286802, 0.0505107277259176, 0.05166424281807469, 0.09515651572887589, 0.0914956125975743, 0.08168826835653717, 0.10707922104163767, 0.09183290621365339, 0.054970644053264225, 0.09123144659057483, 0.07511158431871415, 0.053771593628966066]\n"
     ]
    }
   ],
   "source": [
    "print(beta_r)"
   ]
  },
  {
   "cell_type": "code",
   "execution_count": 36,
   "metadata": {},
   "outputs": [],
   "source": [
    "reward,reward_B,happiness = happiness_reward()\n",
    "beta_r = []\n",
    "beta_r_b = []\n",
    "subjects = 60\n",
    "for j in range(subjects):\n",
    "    happy = happiness[j]\n",
    "    r = reward[j]\n",
    "    r_b = reward_B[j]\n",
    "    data = {'happy':happy,'r':r,'r_b':r_b}\n",
    "    data = pd.DataFrame(data)\n",
    "    lm = ols('happy ~ r + r_b',data=data).fit()\n",
    "    # beta_r.append(lm.params['r'])\n",
    "    # beta_r_b.append(lm.params['r_b'])\n",
    "    if lm.pvalues['r']<=0.05:\n",
    "        beta_r.append(lm.params['r'])\n",
    "    if lm.pvalues['r_b']<=0.05:\n",
    "        beta_r_b.append(lm.params['r_b'])\n",
    "data = {'happiness':happy,'r':r,'r_b':r_b}\n",
    "# data = pd.DataFrame(data)\n",
    "# lm = ols('happy ~ r + r_b',data=data).fit()\n",
    "# lm.summary()"
   ]
  },
  {
   "cell_type": "code",
   "execution_count": 45,
   "metadata": {},
   "outputs": [
    {
     "name": "stdout",
     "output_type": "stream",
     "text": [
      "[0.05594754822369834, 0.02504336935358145, 0.06690377516044907, 0.0388828959080581, 0.09255547602004294, 0.08880143281330995, 0.09091213266941846, 0.019048905560238045, 0.09877500563249703, 0.047862580278879185, 0.14287661721076234, 0.07033924037352855, 0.012393383640115281, 0.07112573941204262, 0.029896833357214506, 0.03040620345846431, 0.06744041201444849, 0.067045238100532, 0.09460612108034946, 0.03368003544773852, 0.05756612145782165, 0.05407755408085139, 0.021072608827927698, -0.0070652635893518785, 0.054150242243017566, 0.03162031427404478, 0.06797391613464653, 0.07208273199078631, 0.05767286619285421, 0.10501010039871983, 0.05993887796112641, 0.08778148514955975, 0.06529787606929294, 0.05983590582440814, 0.07324004226529536, 0.05853356718001686, 0.07873221477668739, 0.03535113395173634, 0.07984430620240418, 0.02215816355027089, 0.08012732810614097, 0.0625173018992201, 0.11227078583127276, 0.08486894991146042, 0.10204477536995205, 0.0594998585394989]\n"
     ]
    }
   ],
   "source": [
    "print(beta_r)"
   ]
  },
  {
   "cell_type": "code",
   "execution_count": 14,
   "metadata": {},
   "outputs": [],
   "source": [
    "nhb_glm_ru_no_gamma_sqrt = log_likelyhood_nhb_glm_ru_no_gamma_sqrt('./nhb_glm_ru_no_gamma_sqrt.csv')\n",
    "nhb_glm2_ru_no_gamma_sqrt = log_likelyhood_nhb_glm2_ru_no_gamma_sqrt('./nhb_glm2_ru_no_gamma_sqrt.csv')"
   ]
  },
  {
   "cell_type": "code",
   "execution_count": 18,
   "metadata": {},
   "outputs": [
    {
     "name": "stdout",
     "output_type": "stream",
     "text": [
      "-122.70070545689495\n",
      "-119.28738765388849\n"
     ]
    }
   ],
   "source": [
    "print(np.mean(nhb_glm_ru_no_gamma_sqrt[0:46]))\n",
    "print(np.mean(nhb_glm2_ru_no_gamma_sqrt[0:46]))"
   ]
  },
  {
   "cell_type": "code",
   "execution_count": 8,
   "metadata": {},
   "outputs": [
    {
     "name": "stdout",
     "output_type": "stream",
     "text": [
      "-123.0847824653359\n"
     ]
    }
   ],
   "source": [
    "print(np.mean(nhb_glm_ru_no_gamma))"
   ]
  },
  {
   "cell_type": "code",
   "execution_count": 13,
   "metadata": {},
   "outputs": [],
   "source": [
    "nhb_glm2_ru_c = log_likelyhood_nhb_glm2_ru_c('./nhb_glm2_ru_c.csv')"
   ]
  },
  {
   "cell_type": "code",
   "execution_count": 14,
   "metadata": {},
   "outputs": [
    {
     "name": "stdout",
     "output_type": "stream",
     "text": [
      "-119.56670464959967\n"
     ]
    }
   ],
   "source": [
    "print(np.mean(nhb_glm2_ru_c))"
   ]
  },
  {
   "cell_type": "code",
   "execution_count": 6,
   "metadata": {},
   "outputs": [],
   "source": [
    "def read_data_all_reward(n):\n",
    "    #read behavioral data; no action: action[i]=4\n",
    "    #数据文件在的位置\n",
    "    action = []\n",
    "    reward = []\n",
    "    reward_B = []\n",
    "    comparision = [] #r-r_b; 1:>=0, 0:<0\n",
    "    reward_all = []\n",
    "    \n",
    "    subject = [1,2,3,4,5,6,7,8,9,10,\n",
    "               11,12,13,14,15,16,17,18,19,20,\n",
    "               21,22,23,24,25,26,27,28,29,30,\n",
    "               31,32,33,34,35,36,37,38,39,40,\n",
    "               41,42,43,44,45,46,47,49,\n",
    "               51,52,53,55,56,58,59,\n",
    "               61]\n",
    "    \n",
    "    num = str(100+subject[n])\n",
    "    file = pd.read_csv('E:/multi-bandit/RL_E1_preexp1_alldata/' + num + '.csv')\n",
    "    name = 'sub (' +str(n) +').csv'\n",
    "    action_index = 0\n",
    "    for i in  range((file.shape[1])):\n",
    "        if file.columns[i] == 'choose_bandit.keys':\n",
    "            action_index = i\n",
    "    reward_index = 0\n",
    "    for i in  range((file.shape[1])):\n",
    "        if file.columns[i] == 'subchoose':\n",
    "            reward_index = i\n",
    "    for i in range((file.shape[0])):\n",
    "\n",
    "        if file.iloc[i,0] == 1 and file.iloc[i,action_index]!='None' :\n",
    "            if file.iloc[i,action_index] == 'r':\n",
    "                action.append(0)\n",
    "            elif file.iloc[i,action_index] == 'f':\n",
    "                action.append(1)\n",
    "            elif file.iloc[i,action_index] == 'i':\n",
    "                action.append(2)\n",
    "            elif file.iloc[i,action_index] == 'j':\n",
    "                action.append(3)\n",
    "            else:\n",
    "                print(file.iloc[i,action_index])\n",
    "                print(i)\n",
    "                raise ValueError('不能识别选项')\n",
    "            reward.append(int(file.iloc[i,reward_index]))\n",
    "            reward_B.append(int(file.iloc[i,reward_index+1]))\n",
    "            reward_all.append([int(file.iloc[i,reward_index-4]),int(file.iloc[i,reward_index-3]),int(file.iloc[i,reward_index-2]),int(file.iloc[i,reward_index-1])])\n",
    "            if int(file.iloc[i,reward_index]) >= int(file.iloc[i,reward_index+1]):\n",
    "                comparision.append(1)\n",
    "            else:\n",
    "                comparision.append(0)\n",
    "        elif file.iloc[i,0] == 1 and file.iloc[i,action_index] =='None' :\n",
    "            action.append(4)\n",
    "            reward.append(0)\n",
    "            reward_B.append(0)\n",
    "            comparision.append(0)\n",
    "            reward_all.append([0,0,0,0])\n",
    "    return action,reward,reward_B,comparision,reward_all\n",
    "def best_choice():\n",
    "    subjects = 46\n",
    "    trials = 150\n",
    "    Comparison_1_best = []\n",
    "    Comparison_0_best = []\n",
    "    Best = []\n",
    "    for s in range(subjects):\n",
    "        comparison_0 = 0\n",
    "        comparison_1 = 0\n",
    "        comparison_0_best = 0\n",
    "        comparison_1_best = 0\n",
    "        effictive_trial = 0\n",
    "        best = 0\n",
    "        action,reward,reward_B,comparison,reward_all =read_data_all_reward(s+1) \n",
    "        comparison = rewards2comparison(action,reward,reward_B,0)\n",
    "        for t in range(trials):\n",
    "            if action[t] != 4 :\n",
    "                if comparison[t] >= 0:\n",
    "                    comparison_1 += 1\n",
    "                    if reward[t] == max(reward_all[t]):\n",
    "                        comparison_1_best += 1\n",
    "                elif comparison[t] < 0:\n",
    "                    comparison_0 += 1\n",
    "                    if reward[t] == max(reward_all[t]):\n",
    "                        comparison_0_best += 1\n",
    "                else:\n",
    "                    print('ERROR')\n",
    "                effictive_trial += 1\n",
    "                if reward[t+1] == max(reward_all[t+1]):\n",
    "                    best +=1\n",
    "        Comparison_0_best.append(comparison_0_best/comparison_0)\n",
    "        Comparison_1_best.append(comparison_1_best/comparison_1)\n",
    "        Best.append(best/effictive_trial)\n",
    "    return Comparison_1_best,Comparison_0_best,Best\n",
    "\n",
    "def optimal_suboptimal_transition():\n",
    "    subjects = 46\n",
    "    trials = 150\n",
    "    Comparison_1_transition = []\n",
    "    Comparison_0_transition = []\n",
    "    Best_transition = []\n",
    "    for s in range(subjects):\n",
    "        comparison_0 = 0\n",
    "        comparison_1 = 0\n",
    "        comparison_0_best = 0\n",
    "        comparison_1_best = 0\n",
    "        effictive_trial = 0\n",
    "        best = 0\n",
    "        action,reward,reward_B,comparison,reward_all =read_data_all_reward(s+1) \n",
    "        comparison = rewards2comparison(action,reward,reward_B,0)\n",
    "        for t in range(trials):\n",
    "            if action[t] != 4 and action[t+1] !=4:\n",
    "                if comparison[t] >= 0:\n",
    "                    comparison_1 += 1\n",
    "                    if reward[t+1] == max(reward_all[t+1]):\n",
    "                        comparison_1_best += 1\n",
    "                elif comparison[t] < 0:\n",
    "                    comparison_0 += 1\n",
    "                    if reward[t+1] == max(reward_all[t+1]):\n",
    "                        comparison_0_best += 1\n",
    "                else:\n",
    "                    print('ERROR')\n",
    "                effictive_trial += 1\n",
    "                if reward[t+1] == max(reward_all[t+1]):\n",
    "                    best +=1\n",
    "        Comparison_0_best.append(comparison_0_best/comparison_0)\n",
    "        Comparison_1_best.append(comparison_1_best/comparison_1)\n",
    "        Best.append(best/effictive_trial)\n",
    "    return Comparison_1_best,Comparison_0_best,Best"
   ]
  },
  {
   "cell_type": "code",
   "execution_count": 116,
   "metadata": {},
   "outputs": [],
   "source": [
    "Comparison_1_best,Comparison_0_best,Best = best_choice()"
   ]
  },
  {
   "cell_type": "code",
   "execution_count": 124,
   "metadata": {},
   "outputs": [
    {
     "name": "stdout",
     "output_type": "stream",
     "text": [
      "0.529095258421414\n",
      "46\n",
      "0.6023464541094777\n",
      "0.3941517601249185\n"
     ]
    }
   ],
   "source": [
    "Best = np.array(Best)\n",
    "print(np.mean(Best))\n",
    "print(len(Best))\n",
    "print(np.mean(Comparison_1_best))\n",
    "print(np.mean(Comparison_0_best))"
   ]
  },
  {
   "cell_type": "code",
   "execution_count": 125,
   "metadata": {},
   "outputs": [
    {
     "name": "stdout",
     "output_type": "stream",
     "text": [
      "subject:  21  the radio of choosing the best arm:  0.20408163265306123\n",
      "subject:  33  the radio of choosing the best arm:  0.24324324324324326\n",
      "subject:  36  the radio of choosing the best arm:  0.17687074829931973\n",
      "subject:  42  the radio of choosing the best arm:  0.2777777777777778\n"
     ]
    }
   ],
   "source": [
    "for i in range(len(Best)):\n",
    "    if Best[i]<0.3:\n",
    "        print('subject: ',i+1,' the radio of choosing the best arm: ',Best[i])"
   ]
  },
  {
   "cell_type": "code",
   "execution_count": 122,
   "metadata": {},
   "outputs": [
    {
     "name": "stdout",
     "output_type": "stream",
     "text": [
      "subject:  21  the radio of choosing the best arm:  0.20408163265306123\n",
      "subject:  33  the radio of choosing the best arm:  0.24324324324324326\n",
      "subject:  36  the radio of choosing the best arm:  0.17687074829931973\n",
      "subject:  42  the radio of choosing the best arm:  0.2777777777777778\n"
     ]
    },
    {
     "data": {
      "image/png": "[encoded data removed]",
      "text/plain": [
       "<Figure size 432x432 with 1 Axes>"
      ]
     },
     "metadata": {},
     "output_type": "display_data"
    }
   ],
   "source": [
    "plt.figure(figsize=(6,6))\n",
    "sns.set()\n",
    "plt.scatter(np.zeros((46)),Comparison_0_best,s=5)\n",
    "plt.scatter(np.ones((46)),Comparison_1_best,s=5)\n",
    "plt.scatter(np.ones((46))*0.5,Best,s=5)\n",
    "for i in range(46):\n",
    "    plt.plot([0,0.5],[Comparison_0_best[i],Best[i]],c='grey',alpha=0.25)\n",
    "    plt.plot([0.5,1],[Best[i],Comparison_1_best[i]],c='grey',alpha=0.25)\n",
    "for i in range(len(Best)):\n",
    "    if Best[i]<0.3:\n",
    "        print('subject: ',i+1,' the radio of choosing the best arm: ',Best[i])"
   ]
  },
  {
   "cell_type": "code",
   "execution_count": null,
   "metadata": {},
   "outputs": [],
   "source": [
    "nhb_test_var = log_likelyhood_nhb_test_var('./nhb_bayesian_learning_pystan_all.csv')"
   ]
  },
  {
   "cell_type": "code",
   "execution_count": 22,
   "metadata": {},
   "outputs": [],
   "source": [
    "def log_likelyhood_nhb_happiness_test(file_name):#nhb\n",
    "    beta,phi,persev,gamma,comparison_level = read_parameter_happiness(file_name)\n",
    "    # print(np.mean(beta))\n",
    "    # print(np.mean(phi))\n",
    "    # print(np.mean(persev))\n",
    "    # print(np.mean(gamma))\n",
    "    # print(np.mean(comparison_level))\n",
    "    subjects = 46\n",
    "    trials = 150\n",
    "    subject_loglikelyhood = []\n",
    "    for s in range(subjects):\n",
    "        action,reward,reward_B,_ =read_data(s) \n",
    "        comparision = rewards2comparison(action,reward,reward_B,0)\n",
    "        loglikelyhood = []\n",
    "        sig_o = 4\n",
    "        sig_d = 2.8\n",
    "        v = np.ones((4))*50\n",
    "        sig = np.ones((4))*4\n",
    "        for t in range(trials):\n",
    "            if action[t]!=4:\n",
    "                #beta:temperature; v:action value; eb:exploration bonus; pb: perseverance bonus; re: random exploration\n",
    "                eb = phi[s] * sig\n",
    "                pb = np.zeros((4))\n",
    "                re = gamma[s] * v / np.sum(sig)\n",
    "                if t>0:\n",
    "                    if action[t-1]!=4:\n",
    "                        pb[action[t-1]] = persev[s]\n",
    "                # elife: beta[s]*(v+eb+pb+re); nhb: (beta[s]*v+eb+pb+re)\n",
    "                happiness = v + comparison_level[s] * np.ones((4)) *comparision[t]\n",
    "                # print(happiness-v)\n",
    "                # print(action_probability((beta[s]*happiness+eb+pb+re),action[t]))\n",
    "                loglikelyhood.append(action_probability((beta[s]*happiness+eb+pb+re),action[t]))\n",
    "                pe = reward[t] - v[action[t]]\n",
    "                Kgain = np.square(sig[action[t]])/(np.square(sig[action[t]])+np.square(sig_o))\n",
    "                v[action[t]] = v[action[t]] + Kgain * pe\n",
    "                sig[action[t]] = np.sqrt((1-Kgain)*np.square(sig[action[t]]))                \n",
    "                # print(v)\n",
    "            sig = np.sqrt(np.square(sig)+np.square(sig_d))\n",
    "        subject_loglikelyhood.append(loglikelyhood)\n",
    "    return subject_loglikelyhood\n",
    "def log_likelyhood_nhb_test(file_name):#nhb\n",
    "    beta,phi,persev,gamma = read_parameter(file_name)\n",
    "    print(np.mean(beta))\n",
    "    print(np.mean(phi))\n",
    "    print(np.mean(persev))\n",
    "    print(np.mean(gamma))\n",
    "    subjects = 46\n",
    "    trials = 150\n",
    "    subject_loglikelyhood = []\n",
    "    for s in range(subjects):\n",
    "        action,reward,reward_B,_ =read_data(s) \n",
    "        \n",
    "        comparision = rewards2comparison(action,reward,reward_B,0)\n",
    "        loglikelyhood = []\n",
    "        sig_o = 4\n",
    "        sig_d = 2.8\n",
    "        v = np.ones((4))*50\n",
    "        sig = np.ones((4))*4\n",
    "        for t in range(trials):\n",
    "            if action[t]!=4:\n",
    "                #beta:temperature; v:action value; eb:exploration bonus; pb: perseverance bonus; re: random exploration\n",
    "                eb = phi[s] * sig\n",
    "                pb = np.zeros((4))\n",
    "                re = gamma[s] * v / np.sum(sig)\n",
    "                if t>0:\n",
    "                    if action[t-1]!=4:\n",
    "                        pb[action[t-1]] = persev[s]\n",
    "                # elife: beta[s]*(v+eb+pb+re); nhb: (beta[s]*v+eb+pb+re)\n",
    "                loglikelyhood.append(action_probability((beta[s]*v+eb+pb+re),action[t]))\n",
    "                # print(action_probability((beta[s]*v+eb+pb+re),action[t]))\n",
    "                pe = reward[t] - v[action[t]]\n",
    "                Kgain = np.square(sig[action[t]])/(np.square(sig[action[t]])+np.square(sig_o))\n",
    "                v[action[t]] = v[action[t]] + Kgain * pe\n",
    "                sig[action[t]] = np.sqrt((1-Kgain)*np.square(sig[action[t]]))\n",
    "                # print(v)\n",
    "            sig = np.sqrt(np.square(sig)+np.square(sig_d))\n",
    "        subject_loglikelyhood.append(loglikelyhood)\n",
    "    return subject_loglikelyhood\n",
    "\n",
    "def log_likelyhood_nhb_glm_phi_test(file_name):#nhb\n",
    "    beta,phi,persev,gamma,phi_a = read_parameter_glm_para(file_name)\n",
    "    subjects = 46\n",
    "    trials = 150\n",
    "    subject_loglikelyhood = []\n",
    "    for s in range(subjects):\n",
    "        action,reward,reward_B,_ =read_data(s) \n",
    "        \n",
    "        comparision = rewards2comparison(action,reward,reward_B,0)\n",
    "        loglikelyhood = 0\n",
    "        sig_o = 4\n",
    "        sig_d = 2.8\n",
    "        v = np.ones((4))*50\n",
    "        sig = np.ones((4))*4\n",
    "        for t in range(trials):\n",
    "            if action[t]!=4:\n",
    "                #beta:temperature; v:action value; eb:exploration bonus; pb: perseverance bonus; re: random exploration\n",
    "                eb = (phi_a[s]* comparision[t] + phi[s]) * sig\n",
    "                pb = np.zeros((4))\n",
    "                re = gamma[s] * v / np.sum(sig)\n",
    "                if t>0:\n",
    "                    if action[t-1]!=4:\n",
    "                        pb[action[t-1]] = persev[s]\n",
    "                # elife: beta[s]*(v+eb+pb+re); nhb: (beta[s]*v+eb+pb+re)\n",
    "                loglikelyhood += action_probability((beta[s]*v+eb+pb+re),action[t])\n",
    "                print(action_probability((beta[s]*v+eb+pb+re),action[t]))\n",
    "                pe = reward[t] - v[action[t]]\n",
    "                Kgain = np.square(sig[action[t]])/(np.square(sig[action[t]])+np.square(sig_o))\n",
    "                v[action[t]] = v[action[t]] + Kgain * pe\n",
    "                sig[action[t]] = np.sqrt((1-Kgain)*np.square(sig[action[t]]))\n",
    "                \n",
    "            sig = np.sqrt(np.square(sig)+np.square(sig_d))\n",
    "        subject_loglikelyhood.append(loglikelyhood)\n",
    "    return subject_loglikelyhood\n",
    "\n",
    "def log_likelyhood_nhb_glm_ru_phi_test(file_name):#nhb\n",
    "    beta,phi,persev,gamma,phi_a = read_parameter_glm_para(file_name)\n",
    "    subjects = 46\n",
    "    trials = 150\n",
    "    subject_loglikelyhood = []\n",
    "    for s in range(subjects):\n",
    "        action,reward,reward_B,_ =read_data(s) \n",
    "        \n",
    "        comparision = rewards2comparison(action,reward,reward_B,0)\n",
    "        loglikelyhood = 0\n",
    "        sig_o = 4\n",
    "        sig_d = 2.8\n",
    "        v = np.ones((4))*50\n",
    "        sig = np.ones((4))*4\n",
    "        for t in range(trials):\n",
    "            if action[t]!=4:\n",
    "                #beta:temperature; v:action value; eb:exploration bonus; pb: perseverance bonus; re: random exploration\n",
    "                min_sig = np.min(sig)\n",
    "                re_sig = sig - np.ones((4))*min_sig\n",
    "                eb = (phi_a[s]* comparision[t] + phi[s]) * re_sig\n",
    "                pb = np.zeros((4))\n",
    "                re = gamma[s] * v / np.sum(sig)\n",
    "                if t>0:\n",
    "                    if action[t-1]!=4:\n",
    "                        pb[action[t-1]] = persev[s]\n",
    "                # elife: beta[s]*(v+eb+pb+re); nhb: (beta[s]*v+eb+pb+re)\n",
    "                loglikelyhood += action_probability((beta[s]*v+eb+pb+re),action[t])\n",
    "                print(action_probability((beta[s]*v+eb+pb+re),action[t]))\n",
    "                pe = reward[t] - v[action[t]]\n",
    "                Kgain = np.square(sig[action[t]])/(np.square(sig[action[t]])+np.square(sig_o))\n",
    "                v[action[t]] = v[action[t]] + Kgain * pe\n",
    "                sig[action[t]] = np.sqrt((1-Kgain)*np.square(sig[action[t]]))\n",
    "            sig = np.sqrt(np.square(sig)+np.square(sig_d))\n",
    "            \n",
    "        \n",
    "        subject_loglikelyhood.append(loglikelyhood)\n",
    "    return subject_loglikelyhood"
   ]
  },
  {
   "cell_type": "code",
   "execution_count": 51,
   "metadata": {},
   "outputs": [],
   "source": [
    "def log_likelyhood2BIC(k,l):\n",
    "    trial_num = 150\n",
    "    return (k*np.log(trial_num)-2*l)"
   ]
  },
  {
   "cell_type": "code",
   "execution_count": 52,
   "metadata": {},
   "outputs": [
    {
     "name": "stdout",
     "output_type": "stream",
     "text": [
      "287.8461756910335\n",
      "284.78495983891975\n"
     ]
    }
   ],
   "source": [
    "print(log_likelyhood2BIC(4,np.mean(nhb_ru)))\n",
    "print(log_likelyhood2BIC(8,np.mean(nhb_glm_verp)))"
   ]
  },
  {
   "cell_type": "code",
   "execution_count": 63,
   "metadata": {},
   "outputs": [],
   "source": [
    "nhb_glm_c_gamma = log_likelyhood_nhb_glm_c_gamma('./nhb_glm_c_gamma.csv')"
   ]
  },
  {
   "cell_type": "code",
   "execution_count": 64,
   "metadata": {},
   "outputs": [
    {
     "name": "stdout",
     "output_type": "stream",
     "text": [
      "-133.4779617248545\n"
     ]
    }
   ],
   "source": [
    "print(np.mean(nhb_glm_c_gamma))"
   ]
  },
  {
   "cell_type": "code",
   "execution_count": 60,
   "metadata": {},
   "outputs": [],
   "source": [
    "nhb_c = log_likelyhood_nhb_c('./nhb_comparison_c.csv')"
   ]
  },
  {
   "cell_type": "code",
   "execution_count": 61,
   "metadata": {},
   "outputs": [
    {
     "name": "stdout",
     "output_type": "stream",
     "text": [
      "-133.47826648426243\n"
     ]
    }
   ],
   "source": [
    "print(np.mean(nhb_c))"
   ]
  },
  {
   "cell_type": "code",
   "execution_count": 23,
   "metadata": {},
   "outputs": [],
   "source": [
    "nhb_ru = log_likelyhood_relative_uncertainty('./nhb_comparison_ru.csv')"
   ]
  },
  {
   "cell_type": "code",
   "execution_count": 13,
   "metadata": {},
   "outputs": [
    {
     "name": "stdout",
     "output_type": "stream",
     "text": [
      "-128.12378994536493\n"
     ]
    }
   ],
   "source": [
    "print(np.mean(nhb_glm_ru_phi))"
   ]
  },
  {
   "cell_type": "code",
   "execution_count": 15,
   "metadata": {},
   "outputs": [
    {
     "name": "stdout",
     "output_type": "stream",
     "text": [
      "-128.1237899453649\n"
     ]
    }
   ],
   "source": [
    "print(np.mean(nhb_glm_ru_phi))"
   ]
  },
  {
   "cell_type": "code",
   "execution_count": 80,
   "metadata": {},
   "outputs": [
    {
     "name": "stdout",
     "output_type": "stream",
     "text": [
      "-128.1237899453649\n"
     ]
    }
   ],
   "source": [
    "print(np.mean(nhb_glm_ru_phi))"
   ]
  },
  {
   "cell_type": "code",
   "execution_count": 78,
   "metadata": {},
   "outputs": [
    {
     "name": "stdout",
     "output_type": "stream",
     "text": [
      "-128.1252367860457\n"
     ]
    }
   ],
   "source": [
    "print(np.mean(nhb_glm_ru_phi))"
   ]
  },
  {
   "cell_type": "code",
   "execution_count": 74,
   "metadata": {},
   "outputs": [
    {
     "name": "stdout",
     "output_type": "stream",
     "text": [
      "-128.1237899453649\n"
     ]
    }
   ],
   "source": [
    "print(np.mean(nhb_glm_ru_phi))\n"
   ]
  },
  {
   "cell_type": "code",
   "execution_count": 28,
   "metadata": {},
   "outputs": [],
   "source": [
    "nhb_glm_ru_c = log_likelyhood_nhb_glm_ru_c('./nhb_glm_ru_c.csv')"
   ]
  },
  {
   "cell_type": "code",
   "execution_count": 29,
   "metadata": {},
   "outputs": [
    {
     "name": "stdout",
     "output_type": "stream",
     "text": [
      "-123.08600456395814\n"
     ]
    }
   ],
   "source": [
    "print(np.mean(nhb_glm_ru_c))"
   ]
  },
  {
   "cell_type": "code",
   "execution_count": 65,
   "metadata": {},
   "outputs": [
    {
     "name": "stdout",
     "output_type": "stream",
     "text": [
      "-128.1237899453649\n"
     ]
    }
   ],
   "source": [
    "nhb_glm_ru_phi = log_likelyhood_nhb_glm_phi('./nhb_glm_ru_phi.csv')\n",
    "print(np.mean(nhb_glm_ru_phi))"
   ]
  },
  {
   "cell_type": "code",
   "execution_count": 46,
   "metadata": {},
   "outputs": [],
   "source": [
    "nhb_glm_beta = log_likelyhood_nhb_glm_beta('./nhb_comparison_glm_beta.csv')\n",
    "nhb_glm_phi = log_likelyhood_nhb_glm_phi('./nhb_comparison_glm_phi.csv')\n",
    "nhb_glm_persev = log_likelyhood_nhb_glm_persev('./nhb_comparison_glm_persev.csv')\n",
    "nhb_glm_gamma = log_likelyhood_nhb_glm_gamma('./nhb_comparison_glm_gamma.csv')"
   ]
  },
  {
   "cell_type": "code",
   "execution_count": 47,
   "metadata": {},
   "outputs": [
    {
     "name": "stdout",
     "output_type": "stream",
     "text": [
      "-131.69299229000669\n",
      "-128.1252367860457\n",
      "-126.39184384968884\n",
      "-132.118041394749\n"
     ]
    }
   ],
   "source": [
    "print(np.mean(nhb_glm_beta))\n",
    "print(np.mean(nhb_glm_phi))\n",
    "print(np.mean(nhb_glm_persev))\n",
    "print(np.mean(nhb_glm_gamma))"
   ]
  },
  {
   "cell_type": "code",
   "execution_count": 39,
   "metadata": {},
   "outputs": [],
   "source": [
    "nhb_glm_verp = log_likelyhood_nhb_glm('./nhb_glm_verp.csv')"
   ]
  },
  {
   "cell_type": "code",
   "execution_count": 40,
   "metadata": {},
   "outputs": [
    {
     "name": "stdout",
     "output_type": "stream",
     "text": [
      "-122.34993874307486\n"
     ]
    }
   ],
   "source": [
    "print(np.mean(nhb_glm_verp))"
   ]
  },
  {
   "cell_type": "code",
   "execution_count": 41,
   "metadata": {},
   "outputs": [
    {
     "name": "stdout",
     "output_type": "stream",
     "text": [
      "-122.3476191154043\n",
      "-122.34993874307486\n"
     ]
    }
   ],
   "source": [
    "print(np.mean(nhb_glm))\n",
    "print(np.mean(nhb_glm_verp))"
   ]
  },
  {
   "cell_type": "code",
   "execution_count": 42,
   "metadata": {},
   "outputs": [],
   "source": [
    "nhb_glm_vep = log_likelyhood_nhb_glm_vep('./nhb_glm_vep.csv')"
   ]
  },
  {
   "cell_type": "code",
   "execution_count": 43,
   "metadata": {},
   "outputs": [
    {
     "name": "stdout",
     "output_type": "stream",
     "text": [
      "-123.08640803656351\n"
     ]
    }
   ],
   "source": [
    "print(np.mean(nhb_glm_vep))"
   ]
  },
  {
   "cell_type": "code",
   "execution_count": 54,
   "metadata": {},
   "outputs": [],
   "source": [
    "nhb_glm = log_likelyhood_nhb_glm('./nhb_comparison_glm_all.csv')\n",
    "nhb_glm_verp = log_likelyhood_nhb_glm('./nhb_glm_verp.csv')\n",
    "nhb_glm_ver = log_likelyhood_nhb_glm_ver('./nhb_glm_ver.csv')\n",
    "nhb_glm_vep = log_likelyhood_nhb_glm_vep('./nhb_glm_vep.csv')\n",
    "nhb_glm_vrp = log_likelyhood_nhb_glm_vrp('./nhb_glm_vrp.csv')"
   ]
  },
  {
   "cell_type": "code",
   "execution_count": 55,
   "metadata": {},
   "outputs": [
    {
     "name": "stdout",
     "output_type": "stream",
     "text": [
      "-122.3476191154043\n",
      "-122.34993874307486\n",
      "-133.3039704033845\n",
      "-123.08640803656351\n",
      "-124.40019687078927\n"
     ]
    }
   ],
   "source": [
    "print(np.mean(nhb_glm))\n",
    "print(np.mean(nhb_glm_verp))\n",
    "print(np.mean(nhb_glm_ver))\n",
    "print(np.mean(nhb_glm_vep))\n",
    "print(np.mean(nhb_glm_vrp))"
   ]
  },
  {
   "cell_type": "code",
   "execution_count": 24,
   "metadata": {},
   "outputs": [],
   "source": [
    "nhb = log_likelyhood_nhb('./formal_contrast_0.csv')\n",
    "nhb_verp = log_likelyhood_nhb('./nhb_comparison_verp.csv')\n",
    "nhb_ver = log_likelyhood_ver('./nhb_comparison_ver.csv')\n",
    "nhb_vep = log_likelyhood_vep('./nhb_comparison_vep.csv')\n",
    "nhb_vrp = log_likelyhood_vrp('./nhb_comparison_vrp.csv')"
   ]
  },
  {
   "cell_type": "code",
   "execution_count": 27,
   "metadata": {},
   "outputs": [
    {
     "name": "stdout",
     "output_type": "stream",
     "text": [
      "-133.90181725732424\n",
      "-133.9014659801071\n"
     ]
    }
   ],
   "source": [
    "print(np.mean(nhb_ru))\n",
    "print(np.mean(nhb_verp))"
   ]
  },
  {
   "cell_type": "code",
   "execution_count": 25,
   "metadata": {},
   "outputs": [
    {
     "name": "stdout",
     "output_type": "stream",
     "text": [
      "-133.90181725732424\n",
      "-133.9014659801071\n",
      "-145.4206514576241\n",
      "-133.47830143108388\n",
      "-134.38317280465756\n"
     ]
    }
   ],
   "source": [
    "print(np.mean(nhb_ru))\n",
    "print(np.mean(nhb_verp))\n",
    "print(np.mean(nhb_ver))\n",
    "print(np.mean(nhb_vep))\n",
    "print(np.mean(nhb_vrp))"
   ]
  },
  {
   "cell_type": "code",
   "execution_count": 14,
   "metadata": {},
   "outputs": [
    {
     "data": {
      "text/plain": [
       "([<matplotlib.axis.XTick at 0x2104396d898>,\n",
       "  <matplotlib.axis.XTick at 0x2104396d048>,\n",
       "  <matplotlib.axis.XTick at 0x210439b2748>,\n",
       "  <matplotlib.axis.XTick at 0x210439e1cc0>],\n",
       " [Text(0, 0, 'VERP'), Text(1, 0, 'VER'), Text(2, 0, 'VEP'), Text(3, 0, 'VRP')])"
      ]
     },
     "execution_count": 14,
     "metadata": {},
     "output_type": "execute_result"
    },
    {
     "data": {
      "image/png": "[encoded data removed]",
      "text/plain": [
       "<Figure size 432x288 with 1 Axes>"
      ]
     },
     "metadata": {
      "needs_background": "light"
     },
     "output_type": "display_data"
    }
   ],
   "source": [
    "plt.bar(range(4),[np.mean(nhb_verp),np.mean(nhb_ver),np.mean(nhb_vep),np.mean(nhb_vrp)])\n",
    "plt.xticks(range(4),['VERP','VER','VEP','VRP'])"
   ]
  },
  {
   "cell_type": "code",
   "execution_count": 36,
   "metadata": {},
   "outputs": [],
   "source": [
    "nhb_happiness_test = log_likelyhood_nhb_happiness_test('./nhb_happiness_0_bayesian_learning_pystan_all.csv')"
   ]
  },
  {
   "cell_type": "code",
   "execution_count": 37,
   "metadata": {},
   "outputs": [
    {
     "name": "stdout",
     "output_type": "stream",
     "text": [
      "0.05566974045177457\n",
      "0.05165880564580469\n",
      "0.9653253539016652\n",
      "0.7492516652475784\n"
     ]
    }
   ],
   "source": [
    "nhb_test = log_likelyhood_nhb_test('./nhb_bayesian_learning_pystan_all.csv')"
   ]
  },
  {
   "cell_type": "code",
   "execution_count": 65,
   "metadata": {},
   "outputs": [],
   "source": [
    "nhb_test = log_likelyhood_nhb_test('./nhb_bayesian_learning_pystan_all.csv')\n",
    "nnhb_test = log_likelyhood_nhb_test('./nhb_bayesian_learning_pystan_all.csv')\n",
    "nhb_happiness_test = log_likelyhood_nhb_happiness_test('./nhb_happiness_0_bayesian_learning_pystan_all.csv')"
   ]
  },
  {
   "cell_type": "code",
   "execution_count": null,
   "metadata": {},
   "outputs": [],
   "source": [
    "print(nhb_test[0])\n",
    "print(nhb_happiness_test[0])"
   ]
  },
  {
   "cell_type": "code",
   "execution_count": null,
   "metadata": {},
   "outputs": [],
   "source": [
    "print(nhb_test[0])\n",
    "print(nnhb_test[0])"
   ]
  },
  {
   "cell_type": "code",
   "execution_count": 31,
   "metadata": {},
   "outputs": [],
   "source": [
    "def exploration_exploitation():\n",
    "    subjects = 60\n",
    "    trials = 150\n",
    "    Exploration_1 = []\n",
    "    Exploration_0 = []\n",
    "    Total = []\n",
    "    for s in range(subjects):\n",
    "        action,reward,reward_B,_ =read_data(s) \n",
    "        comparision = rewards2comparison(action,reward,reward_B,0)\n",
    "        exploration_1 = 0\n",
    "        exploration_0 = 0\n",
    "        total = 0\n",
    "        total_exploration = 0\n",
    "        num_1 = 0\n",
    "        num_0 = 0\n",
    "        sig_o = 4\n",
    "        sig_d = 2.8\n",
    "        v = np.ones((4))*50\n",
    "        sig = np.ones((4))*4\n",
    "        for t in range(trials):\n",
    "            if action[t]!=4:\n",
    "                total += 1\n",
    "                if not v[action[t]]==np.max(v):\n",
    "                    total_exploration += 1\n",
    "                if comparision[t]>=0:\n",
    "                    num_1 += 1\n",
    "                    if not v[action[t]]==np.max(v):\n",
    "                        exploration_1+=1\n",
    "                else:\n",
    "                    num_0 += 1\n",
    "                    if not v[action[t]]==np.max(v):\n",
    "                        exploration_0+=1\n",
    "                #beta:temperature; v:action value; eb:exploration bonus; pb: perseverance bonus; re: random exploration\n",
    "                pe = reward[t] - v[action[t]]\n",
    "                Kgain = np.square(sig[action[t]])/(np.square(sig[action[t]])+np.square(sig_o))\n",
    "                v[action[t]] = v[action[t]] + Kgain * pe\n",
    "                sig[action[t]] = np.sqrt((1-Kgain)*np.square(sig[action[t]]))\n",
    "            sig = np.sqrt(np.square(sig)+np.square(sig_d))\n",
    "        Exploration_0.append(exploration_0/num_0)\n",
    "        Exploration_1.append(exploration_1/num_1)\n",
    "        Total.append(total_exploration/total)\n",
    "\n",
    "    return Exploration_0,Exploration_1,Total\n",
    "\n",
    "def exploration_exploitation_ru_c():\n",
    "    subjects = 60\n",
    "    trials = 150\n",
    "    Exploration_1 = []\n",
    "    Exploration_0 = []\n",
    "    Total = []\n",
    "    for s in range(subjects):\n",
    "        action,reward,reward_B,_ =read_data(s) \n",
    "        comparision = rewards2comparison(action,reward,reward_B,0)\n",
    "        exploration_1 = 0\n",
    "        exploration_0 = 0\n",
    "        total = 0\n",
    "        total_exploration = 0\n",
    "        num_1 = 0\n",
    "        num_0 = 0\n",
    "        sig_o = 4\n",
    "        sig_d = 2.8\n",
    "        v = np.ones((4))*50\n",
    "        sig = np.ones((4))*4\n",
    "        for t in range(trials):\n",
    "            if action[t]!=4:\n",
    "                total += 1\n",
    "                if not v[action[t]]==np.max(v):\n",
    "                    total_exploration += 1\n",
    "                if comparision[t]>=0:\n",
    "                    num_1 += 1\n",
    "                    if not v[action[t]]==np.max(v):\n",
    "                        exploration_1+=1\n",
    "                else:\n",
    "                    num_0 += 1\n",
    "                    if not v[action[t]]==np.max(v):\n",
    "                        exploration_0+=1\n",
    "                #beta:temperature; v:action value; eb:exploration bonus; pb: perseverance bonus; re: random exploration\n",
    "                pe = reward[t] - v[action[t]]\n",
    "                Kgain = np.square(sig[action[t]])/(np.square(sig[action[t]])+np.square(sig_o))\n",
    "                v[action[t]] = v[action[t]] + Kgain * pe\n",
    "                sig[action[t]] = np.sqrt((1-Kgain)*np.square(sig[action[t]]))\n",
    "            sig = np.sqrt(np.square(sig)+np.square(sig_d))\n",
    "        Exploration_0.append(exploration_0/num_0)\n",
    "        Exploration_1.append(exploration_1/num_1)\n",
    "        Total.append(total_exploration/total)\n",
    "\n",
    "    return Exploration_0,Exploration_1,Total\n"
   ]
  },
  {
   "cell_type": "code",
   "execution_count": 33,
   "metadata": {},
   "outputs": [],
   "source": [
    "def get_p_value(arrA, arrB):\n",
    "  a = np.array(arrA)\n",
    "  b = np.array(arrB)\n",
    "  t, p = stats.ttest_ind(a,b)\n",
    "  return p"
   ]
  },
  {
   "cell_type": "code",
   "execution_count": 45,
   "metadata": {},
   "outputs": [
    {
     "data": {
      "image/png": "[encoded data removed]",
      "text/plain": [
       "<Figure size 432x432 with 1 Axes>"
      ]
     },
     "metadata": {},
     "output_type": "display_data"
    }
   ],
   "source": [
    "Exploration_0,Exploration_1,Total = exploration_exploitation()\n",
    "sns.set(style='ticks')\n",
    "plt.figure(figsize=(6,6))\n",
    "plt.scatter(np.zeros((46)),Exploration_0,s=15,color=(102/255,149/255,177/255))\n",
    "plt.scatter(np.ones((46)),Exploration_1,s=15,color=(188/255,117/255,125/255))\n",
    "plt.scatter(np.ones((46))*0.5,Total,s=5,color='lightgreen')\n",
    "plt.xticks([0,0.5,1],['Lose trials','All trials','Win trials'])\n",
    "plt.ylabel('Exploration probability')\n",
    "for i in range(46):\n",
    "    plt.plot([0,0.5],[Exploration_0[i],Total[i]],c='grey',alpha=0.25)\n",
    "    plt.plot([0.5,1],[Total[i],Exploration_1[i]],c='grey',alpha=0.25)\n",
    "# print(get_p_value(Exploration_0,Exploration_1))\n",
    "# for i in range(len(Total)):\n",
    "#     if Total[i]<0.1:\n",
    "#         print('subject: ',i+1,' the radio of exploration: ',Total[i])\n",
    "Total = np.array(Total)\n",
    "# print(np.mean(Total))\n",
    "plt.show()"
   ]
  },
  {
   "cell_type": "code",
   "execution_count": 45,
   "metadata": {},
   "outputs": [],
   "source": [
    "nhb_delta = log_likelyhood_nhb_delta('./nhb_0_delta.csv')"
   ]
  },
  {
   "cell_type": "code",
   "execution_count": 13,
   "metadata": {},
   "outputs": [],
   "source": [
    "# elife = log_likelyhood_elife('./comparision_0_bayesian_learning_pystan.csv')\n",
    "nhb = log_likelyhood_nhb('./nhb_bayesian_learning_pystan_all.csv')\n",
    "nhb_glm = log_likelyhood_nhb_glm('./nhb_comparison_glm_all.csv')"
   ]
  },
  {
   "cell_type": "code",
   "execution_count": 12,
   "metadata": {},
   "outputs": [],
   "source": [
    "nhb_glm_decay = log_likelyhood_nhb_glm_decay('./nhb_comparison_glm_decay_all.csv')"
   ]
  },
  {
   "cell_type": "code",
   "execution_count": 23,
   "metadata": {},
   "outputs": [
    {
     "name": "stdout",
     "output_type": "stream",
     "text": [
      "-158.66087243661465\n",
      "-156.71416642037485\n"
     ]
    }
   ],
   "source": [
    "elife = np.array(elife)\n",
    "nhb = np.array(nhb)\n",
    "print(np.mean(elife))\n",
    "print(np.mean(nhb))"
   ]
  },
  {
   "cell_type": "code",
   "execution_count": 46,
   "metadata": {},
   "outputs": [
    {
     "name": "stdout",
     "output_type": "stream",
     "text": [
      "-133.9025632204292\n",
      "-175.90443439901156\n",
      "-122.3476191154043\n",
      "-125.29592522524611\n",
      "-133.90199405219408\n",
      "-129.29195117531808\n"
     ]
    }
   ],
   "source": [
    "nhb_happiness = np.array(nhb_happiness)\n",
    "nhb = np.array(nhb)\n",
    "nhb_delta = np.array(nhb_delta)\n",
    "nhb_glm = np.array(nhb_glm)\n",
    "nhb_glm_decay = np.array(nhb_glm_decay)\n",
    "nhb_learning = np.array(nhb_learning)\n",
    "print(np.mean(nhb))\n",
    "print(np.mean(nhb_delta))\n",
    "print(np.mean(nhb_glm))\n",
    "print(np.mean(nhb_glm_decay))\n",
    "print(np.mean(nhb_happiness))\n",
    "print(np.mean(nhb_learning))"
   ]
  },
  {
   "cell_type": "code",
   "execution_count": 28,
   "metadata": {},
   "outputs": [
    {
     "name": "stdout",
     "output_type": "stream",
     "text": [
      "5\n",
      "5\n"
     ]
    }
   ],
   "source": [
    "E = 0\n",
    "N = 0\n",
    "for i in range(subject_num):\n",
    "    if nhb_happiness[i]>nhb[i]:\n",
    "        E+=1\n",
    "    else:\n",
    "        N+=1\n",
    "print(E)\n",
    "print(N)"
   ]
  },
  {
   "cell_type": "code",
   "execution_count": 16,
   "metadata": {},
   "outputs": [
    {
     "data": {
      "text/plain": [
       "<BarContainer object of 46 artists>"
      ]
     },
     "execution_count": 16,
     "metadata": {},
     "output_type": "execute_result"
    },
    {
     "data": {
      "image/png": "[encoded data removed]",
      "text/plain": [
       "<Figure size 1440x432 with 1 Axes>"
      ]
     },
     "metadata": {
      "needs_background": "light"
     },
     "output_type": "display_data"
    }
   ],
   "source": [
    "plt.figure(figsize=(20, 6))\n",
    "plt.bar(range(46),nhb_glm_decay,alpha=0.4,color ='black')\n",
    "plt.bar(range(46),nhb_glm,alpha=0.4,color='blue')\n"
   ]
  },
  {
   "cell_type": "code",
   "execution_count": 14,
   "metadata": {},
   "outputs": [],
   "source": [
    "nhb_glm = log_likelyhood_nhb_glm('./nhb_comparison_glm_all.csv')\n",
    "nhb_happiness = log_likelyhood_nhb_happiness('./nhb_happiness_0_bayesian_learning_pystan_all.csv')\n",
    "nhb_learning = log_likelyhood_nhb_learning('./nhb_learning_0_bayesian_learning_pystan_all.csv')"
   ]
  },
  {
   "cell_type": "code",
   "execution_count": 18,
   "metadata": {},
   "outputs": [
    {
     "data": {
      "text/plain": [
       "<BarContainer object of 46 artists>"
      ]
     },
     "execution_count": 18,
     "metadata": {},
     "output_type": "execute_result"
    },
    {
     "data": {
      "image/png": "[encoded data removed]",
      "text/plain": [
       "<Figure size 1440x432 with 1 Axes>"
      ]
     },
     "metadata": {
      "needs_background": "light"
     },
     "output_type": "display_data"
    }
   ],
   "source": [
    "plt.figure(figsize=(20, 6))\n",
    "# plt.bar(range(subject_num),nhb_learning,alpha=0.4,color ='blue')\n",
    "plt.bar(range(subject_num),nhb_learning,alpha=0.4,color='blue')\n",
    "plt.bar(range(subject_num),nhb,alpha=0.4,color ='black')"
   ]
  },
  {
   "cell_type": "code",
   "execution_count": 19,
   "metadata": {},
   "outputs": [],
   "source": [
    "beta_a_0,phi_a_0,persev_a_0,gamma_a_0,beta_a_1,phi_a_1,persev_a_1,gamma_a_1,beta_b,phi_b,persev_b,gamma_b = read_parameter_glm2('./nhb_glm2_ru_c.csv')\n",
    "data = {'beta_a_0':beta_a_0,'phi_a_0':phi_a_0,'persev_a_0':persev_a_0,'gamma_a_0':gamma_a_0,\n",
    "        'beta_a_1':beta_a_1,'phi_a_1':phi_a_1,'persev_a_1':persev_a_1,'gamma_a_1':gamma_a_1,\n",
    "        'beta_b':beta_b,'phi_b':phi_b,'persev_b':persev_b,'gamma_b':gamma_b,\n",
    "        }\n",
    "df = pd.DataFrame(data)"
   ]
  },
  {
   "cell_type": "code",
   "execution_count": 25,
   "metadata": {},
   "outputs": [
    {
     "name": "stdout",
     "output_type": "stream",
     "text": [
      "[ 1.9555800e-04 -9.5323500e-04 -6.3545400e-04  2.8614360e-03\n",
      "  1.9363900e-03  1.4241940e-03 -1.7492990e-03  2.1702600e-04\n",
      " -4.4682900e-04  1.6393780e-03 -3.4187600e-04 -9.3372200e-04\n",
      "  3.2590500e-04  1.8284960e-03  6.6963100e-04  5.3210630e-03\n",
      " -2.2332700e-02 -2.9278530e-03  1.2601914e-02  1.0413490e-03\n",
      "  3.6175300e-04  9.9847600e-04  9.9046700e-04  7.2763400e-04\n",
      " -1.6672790e-03  9.1524510e-03  1.3250340e-03 -7.0221900e-04\n",
      "  6.0682400e-04  6.8014500e-04  2.5963200e-04 -9.3964600e-04\n",
      "  2.9737700e-04  1.5794760e-03  5.9954970e-03 -1.4264700e-04\n",
      " -1.7418210e-03 -6.0544700e-03 -2.7309400e-04  2.7436880e-03\n",
      "  1.7466900e-04  4.3534800e-04  4.7986310e-03  1.0621200e-03\n",
      "  4.7368540e-03  8.1348300e-04 -1.2500550e-03  1.0648300e-03\n",
      "  8.1594600e-04 -4.0306890e-03  1.4429650e-03  6.1760790e-03\n",
      "  1.4840610e-03  3.4494080e-03  9.5934710e-03 -7.7265250e-03\n",
      "  2.2083570e-03  4.5518540e-03 -2.1524010e-03 -4.3918990e-03\n",
      " -6.1751700e-04 -1.1742595e-02  2.7745171e-02  4.8663110e-03\n",
      " -4.6965510e-03 -3.3788420e-03  3.1300000e-06  1.7414398e-02\n",
      " -2.7863270e-03 -2.1240650e-03  1.8038420e-02  5.7126190e-03\n",
      "  5.4968800e-04  5.2644300e-04  7.7861600e-04  7.3750100e-04\n",
      " -1.1400000e-05  1.2143430e-02  3.8760800e-04  1.8397900e-04\n",
      " -9.5062640e-03 -4.7150500e-04  3.1200000e-05 -1.7213270e-03\n",
      "  2.4510380e-03  1.0837440e-02  6.8662200e-04 -4.8516300e-04\n",
      " -3.7718740e-03 -4.2147890e-03 -2.5268890e-03  2.3645890e-03]\n"
     ]
    }
   ],
   "source": [
    "print(np.array([beta_a_0,beta_a_1]).reshape(-1,1).squeeze())"
   ]
  },
  {
   "cell_type": "code",
   "execution_count": 31,
   "metadata": {},
   "outputs": [
    {
     "data": {
      "text/plain": [
       "<AxesSubplot:>"
      ]
     },
     "execution_count": 31,
     "metadata": {},
     "output_type": "execute_result"
    },
    {
     "data": {
      "image/png": "[encoded data removed]",
      "text/plain": [
       "<Figure size 144x576 with 1 Axes>"
      ]
     },
     "metadata": {
      "needs_background": "light"
     },
     "output_type": "display_data"
    }
   ],
   "source": [
    "condition = []\n",
    "for i in range(46):\n",
    "    condition.append('beta_a_0')\n",
    "for i in range(46):\n",
    "    condition.append('beta_a_1')\n",
    "data = {\"value\":np.array([beta_a_0,beta_a_1]).reshape(-1,1).squeeze(),\n",
    "        \"condition\":condition}\n",
    "plt.figure(figsize=(2,8))\n",
    "sns.boxplot(data=data,y='value',x='condition')"
   ]
  },
  {
   "cell_type": "code",
   "execution_count": 32,
   "metadata": {},
   "outputs": [
    {
     "data": {
      "text/plain": [
       "<AxesSubplot:>"
      ]
     },
     "execution_count": 32,
     "metadata": {},
     "output_type": "execute_result"
    },
    {
     "data": {
      "image/png": "[encoded data removed]",
      "text/plain": [
       "<Figure size 144x576 with 1 Axes>"
      ]
     },
     "metadata": {
      "needs_background": "light"
     },
     "output_type": "display_data"
    }
   ],
   "source": [
    "condition = []\n",
    "for i in range(46):\n",
    "    condition.append('phi_a_0')\n",
    "for i in range(46):\n",
    "    condition.append('phi_a_1')\n",
    "data = {\"value\":np.array([phi_a_0,phi_a_1]).reshape(-1,1).squeeze(),\n",
    "        \"condition\":condition}\n",
    "plt.figure(figsize=(2,8))\n",
    "sns.boxplot(data=data,y='value',x='condition')"
   ]
  },
  {
   "cell_type": "code",
   "execution_count": 33,
   "metadata": {},
   "outputs": [
    {
     "data": {
      "text/plain": [
       "<AxesSubplot:>"
      ]
     },
     "execution_count": 33,
     "metadata": {},
     "output_type": "execute_result"
    },
    {
     "data": {
      "image/png": "[encoded data removed]",
      "text/plain": [
       "<Figure size 144x576 with 1 Axes>"
      ]
     },
     "metadata": {
      "needs_background": "light"
     },
     "output_type": "display_data"
    }
   ],
   "source": [
    "condition = []\n",
    "for i in range(46):\n",
    "    condition.append('persev_a_0')\n",
    "for i in range(46):\n",
    "    condition.append('persev_a_1')\n",
    "data = {\"value\":np.array([persev_a_0,persev_a_1]).reshape(-1,1).squeeze(),\n",
    "        \"condition\":condition}\n",
    "plt.figure(figsize=(2,8))\n",
    "sns.boxplot(data=data,y='value',x='condition')"
   ]
  },
  {
   "cell_type": "code",
   "execution_count": 34,
   "metadata": {},
   "outputs": [
    {
     "data": {
      "text/plain": [
       "<AxesSubplot:>"
      ]
     },
     "execution_count": 34,
     "metadata": {},
     "output_type": "execute_result"
    },
    {
     "data": {
      "image/png": "[encoded data removed]",
      "text/plain": [
       "<Figure size 144x576 with 1 Axes>"
      ]
     },
     "metadata": {
      "needs_background": "light"
     },
     "output_type": "display_data"
    }
   ],
   "source": [
    "condition = []\n",
    "for i in range(46):\n",
    "    condition.append('gamma_a_0')\n",
    "for i in range(46):\n",
    "    condition.append('gamma_a_1')\n",
    "data = {\"value\":np.array([gamma_a_0,gamma_a_1]).reshape(-1,1).squeeze(),\n",
    "        \"condition\":condition}\n",
    "plt.figure(figsize=(2,8))\n",
    "sns.boxplot(data=data,y='value',x='condition')"
   ]
  },
  {
   "cell_type": "code",
   "execution_count": 5,
   "metadata": {},
   "outputs": [],
   "source": [
    "beta_a,phi_a,persev_a,gamma_a,beta_b,phi_b,persev_b,gamma_b = read_parameter_glm('./nhb_glm_ru_c.csv')\n",
    "data = {'beta_a':beta_a,'phi_a':phi_a,'persev_a':persev_a,'gamma_a':gamma_a,\n",
    "        'beta_b':beta_b,'phi_b':phi_b,'persev_b':persev_b,'gamma_b':gamma_b,\n",
    "        }\n",
    "df = pd.DataFrame(data)\n"
   ]
  },
  {
   "cell_type": "code",
   "execution_count": 58,
   "metadata": {},
   "outputs": [
    {
     "name": "stdout",
     "output_type": "stream",
     "text": [
      "0.21254376868273542\n",
      "-0.10083189159404872\n"
     ]
    }
   ],
   "source": [
    "print(np.mean(beta_a/beta_b))\n",
    "print(np.mean(phi_a/phi_b))"
   ]
  },
  {
   "cell_type": "code",
   "execution_count": 60,
   "metadata": {},
   "outputs": [],
   "source": [
    "beta,_,_,_,beta_a = read_parameter_happiness('./nhb_glm_ru_c_beta.csv')\n",
    "_,phi,_,_,phi_a = read_parameter_happiness('./nhb_glm_ru_c_phi.csv')\n",
    "_,_,persev,_,persev_a = read_parameter_happiness('./nhb_glm_ru_c_persev.csv')\n",
    "_,_,_,gamma,gamma_a = read_parameter_happiness('./nhb_glm_ru_c_gamma.csv')\n",
    "beta_norm = np.divide(beta_a,beta)\n",
    "phi_norm = np.divide(phi_a,phi)\n",
    "persev_norm = np.divide(persev_a,persev)\n",
    "gamma_norm = np.divide(gamma_a,gamma)\n",
    "data = {'beta_a':beta_a,'phi_a':phi_a,'persev_a':persev_a,'gamma_a':gamma_a,\n",
    "        'beta_norm':beta_norm,'phi_norm':phi_norm,'persev_norm':persev_norm,'gamma_norm':gamma_norm}\n",
    "df = pd.DataFrame(data)"
   ]
  },
  {
   "cell_type": "code",
   "execution_count": 61,
   "metadata": {},
   "outputs": [
    {
     "name": "stdout",
     "output_type": "stream",
     "text": [
      "-0.1279911076503209\n",
      "0.015231663142825808\n",
      "0.05379461024414886\n",
      "0.0007875969675198256\n"
     ]
    }
   ],
   "source": [
    "print(np.mean(phi_a)/np.mean(phi))\n",
    "print(np.mean(beta_a)/np.mean(beta))\n",
    "print(np.mean(persev_a)/np.mean(persev))\n",
    "print(np.mean(gamma_a)/np.mean(gamma))"
   ]
  },
  {
   "cell_type": "code",
   "execution_count": 62,
   "metadata": {},
   "outputs": [
    {
     "data": {
      "text/plain": [
       "<AxesSubplot:>"
      ]
     },
     "execution_count": 62,
     "metadata": {},
     "output_type": "execute_result"
    },
    {
     "data": {
      "image/png": "[encoded data removed]",
      "text/plain": [
       "<Figure size 72x432 with 1 Axes>"
      ]
     },
     "metadata": {},
     "output_type": "display_data"
    }
   ],
   "source": [
    "plt.figure(figsize=(1,6))\n",
    "sns.boxplot(data=df[\"beta_a\"])"
   ]
  },
  {
   "cell_type": "code",
   "execution_count": 63,
   "metadata": {},
   "outputs": [
    {
     "data": {
      "text/plain": [
       "<AxesSubplot:>"
      ]
     },
     "execution_count": 63,
     "metadata": {},
     "output_type": "execute_result"
    },
    {
     "data": {
      "image/png": "[encoded data removed]",
      "text/plain": [
       "<Figure size 72x432 with 1 Axes>"
      ]
     },
     "metadata": {},
     "output_type": "display_data"
    }
   ],
   "source": [
    "plt.figure(figsize=(1,6))\n",
    "sns.boxplot(data=df[\"phi_a\"])"
   ]
  },
  {
   "cell_type": "code",
   "execution_count": 64,
   "metadata": {},
   "outputs": [
    {
     "data": {
      "image/png": "[encoded data removed]",
      "text/plain": [
       "<Figure size 72x432 with 1 Axes>"
      ]
     },
     "metadata": {},
     "output_type": "display_data"
    }
   ],
   "source": [
    "plt.figure(figsize=(1,6))\n",
    "sns.boxplot(data=df[\"persev_a\"]);"
   ]
  },
  {
   "cell_type": "code",
   "execution_count": 65,
   "metadata": {},
   "outputs": [
    {
     "data": {
      "image/png": "[encoded data removed]",
      "text/plain": [
       "<Figure size 72x432 with 1 Axes>"
      ]
     },
     "metadata": {},
     "output_type": "display_data"
    }
   ],
   "source": [
    "plt.figure(figsize=(1,6))\n",
    "sns.boxplot(data=df[\"gamma_a\"]);"
   ]
  },
  {
   "cell_type": "code",
   "execution_count": 67,
   "metadata": {},
   "outputs": [
    {
     "data": {
      "image/png": "[encoded data removed]",
      "text/plain": [
       "<Figure size 432x288 with 1 Axes>"
      ]
     },
     "metadata": {
      "needs_background": "light"
     },
     "output_type": "display_data"
    }
   ],
   "source": [
    "sns.boxplot(data=df[\"persev_norm\"]);"
   ]
  },
  {
   "cell_type": "code",
   "execution_count": 60,
   "metadata": {},
   "outputs": [
    {
     "data": {
      "text/plain": [
       "<matplotlib.collections.PathCollection at 0x190644683c8>"
      ]
     },
     "execution_count": 60,
     "metadata": {},
     "output_type": "execute_result"
    },
    {
     "data": {
      "image/png": "[encoded data removed]",
      "text/plain": [
       "<Figure size 432x288 with 1 Axes>"
      ]
     },
     "metadata": {},
     "output_type": "display_data"
    }
   ],
   "source": [
    "plt.scatter(np.arange(subject_num),beta_a)\n",
    "sns.regplot(x='beta',y='beta_1' ,data=df,color='blue')"
   ]
  },
  {
   "cell_type": "code",
   "execution_count": 47,
   "metadata": {},
   "outputs": [
    {
     "name": "stdout",
     "output_type": "stream",
     "text": [
      "0.0008417501993640685\n"
     ]
    },
    {
     "data": {
      "image/png": "[encoded data removed]",
      "text/plain": [
       "<Figure size 432x288 with 1 Axes>"
      ]
     },
     "metadata": {
      "needs_background": "light"
     },
     "output_type": "display_data"
    }
   ],
   "source": [
    "plt.scatter(np.arange(subject_num),phi_a)\n",
    "print(np.mean(phi_a))"
   ]
  },
  {
   "cell_type": "code",
   "execution_count": 43,
   "metadata": {},
   "outputs": [
    {
     "data": {
      "text/plain": [
       "<matplotlib.collections.PathCollection at 0x1b6211ea588>"
      ]
     },
     "execution_count": 43,
     "metadata": {},
     "output_type": "execute_result"
    },
    {
     "data": {
      "image/png": "[encoded data removed]",
      "text/plain": [
       "<Figure size 432x288 with 1 Axes>"
      ]
     },
     "metadata": {
      "needs_background": "light"
     },
     "output_type": "display_data"
    }
   ],
   "source": [
    "plt.scatter(np.arange(subject_num),persev_a)"
   ]
  },
  {
   "cell_type": "code",
   "execution_count": 48,
   "metadata": {},
   "outputs": [
    {
     "data": {
      "text/plain": [
       "<matplotlib.collections.PathCollection at 0x1b62127eb00>"
      ]
     },
     "execution_count": 48,
     "metadata": {},
     "output_type": "execute_result"
    },
    {
     "data": {
      "image/png": "[encoded data removed]",
      "text/plain": [
       "<Figure size 432x288 with 1 Axes>"
      ]
     },
     "metadata": {
      "needs_background": "light"
     },
     "output_type": "display_data"
    }
   ],
   "source": [
    "plt.scatter(np.arange(subject_num),gamma_a)"
   ]
  },
  {
   "cell_type": "code",
   "execution_count": null,
   "metadata": {},
   "outputs": [],
   "source": [
    "#参数对于每个人的一致性\n",
    "\n",
    "#直接用模型计算出每个回合探索与利用的概率"
   ]
  }
 ],
 "metadata": {
  "kernelspec": {
   "display_name": "Python 3.7.0 ('RL')",
   "language": "python",
   "name": "python3"
  },
  "language_info": {
   "codemirror_mode": {
    "name": "ipython",
    "version": 3
   },
   "file_extension": ".py",
   "mimetype": "text/x-python",
   "name": "python",
   "nbconvert_exporter": "python",
   "pygments_lexer": "ipython3",
   "version": "3.7.0"
  },
  "orig_nbformat": 4,
  "vscode": {
   "interpreter": {
    "hash": "17680b14d7d9a3bae9c4871fddb2c879681776f38d67c6256fcb9de429c7e820"
   }
  }
 },
 "nbformat": 4,
 "nbformat_minor": 2
}
